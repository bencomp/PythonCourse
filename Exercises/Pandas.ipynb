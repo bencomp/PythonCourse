{
 "cells": [
  {
   "attachments": {},
   "cell_type": "markdown",
   "metadata": {},
   "source": [
    "## Exercise 11.1.\n",
    "\n",
    "Download the CSV file ‘nobel.csv’: \n",
    "https://edu.nl/3xmbd  \n",
    "\n",
    "Using the data in this file, try to answer the following questions:\n",
    "* How many Nobel laureates are described in this file?\n",
    "* How many of these are from the Netherlands? What are the names of the Dutch Nobel prize winners?\n",
    "* How many female Nobel laureates are there in this data set? What are their names?\n",
    "* Who was the youngest person ever to receive the Nobel Prize? Who was the oldest person? Tip: create a new column called ‘Age’, in which the year in which the prize was awarded is subtracted from the year of birth. \n",
    "* Create a list of all the unique countries, and calculate the number of Nobel laureates per country.\n",
    "* For each discipline, calculate the average age of the Nobel laureates. "
   ]
  },
  {
   "cell_type": "code",
   "execution_count": null,
   "metadata": {},
   "outputs": [],
   "source": []
  },
  {
   "attachments": {},
   "cell_type": "markdown",
   "metadata": {},
   "source": [
    "## Exercise 11.2.\n",
    "\n",
    "Download the Excel file names 'Grades.xsl' from the following address: \n",
    "\n",
    "https://github.com/peterverhaar/PythonCourse/raw/master/Texts/Grades.xlsx \n",
    "\n",
    "This spreadsheet contains the partial grades received in a certain course. \n",
    "\n",
    "Write code which can calculate and print the final grade for each student. The essay and the exam both count for 40% the grade. The remaining 20% is determined by the presentation.\n",
    "\n",
    "Additionally, answer the following questions:\n",
    "* Which student has received the highest mark for the essay?\n",
    "* Which student scored worst on the exam? \n",
    "* How many students have received a 6 or lower for the essay?"
   ]
  },
  {
   "cell_type": "code",
   "execution_count": null,
   "metadata": {},
   "outputs": [],
   "source": []
  }
 ],
 "metadata": {
  "kernelspec": {
   "display_name": "Python 3",
   "language": "python",
   "name": "python3"
  },
  "language_info": {
   "codemirror_mode": {
    "name": "ipython",
    "version": 3
   },
   "file_extension": ".py",
   "mimetype": "text/x-python",
   "name": "python",
   "nbconvert_exporter": "python",
   "pygments_lexer": "ipython3",
   "version": "3.7.2"
  }
 },
 "nbformat": 4,
 "nbformat_minor": 2
}
