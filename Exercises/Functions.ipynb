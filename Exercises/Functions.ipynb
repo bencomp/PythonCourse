{
 "cells": [
  {
   "cell_type": "markdown",
   "metadata": {},
   "source": [
    "# Functions - Exercises"
   ]
  },
  {
   "cell_type": "markdown",
   "metadata": {},
   "source": [
    "## Exercise 4.1.\n",
    "\n",
    "In a given university course, the final grade is determined by grade for essay and by the grade for a presentation. The presentation counts for 30% and the essay for 70%. Write two functions: (1) one function which can calculate the final grade based on a set of partial grades. Grades must be rounded to integers. 5.4, for example, becomes 5 and 6.6 becomes 7. (2) Write a second function which can determine whether a given grade is at a pass level (i.e. higher than 6). This function must return a boolean value, in which 'pass' is true and 'fail' equals false.    "
   ]
  },
  {
   "cell_type": "code",
   "execution_count": null,
   "metadata": {},
   "outputs": [],
   "source": [
    "# Function calculateMark determines the final mark\n",
    "\n",
    "\n",
    "# Function isPass determines 'Pass' or 'Fail'\n",
    "\n",
    "\n",
    "# Let's try them:\n",
    "essay1 = 7.0\n",
    "presentation1 = 8.5\n",
    "final1 = calculateMark(essay1, presentation1)\n",
    "print( \"final grade: {} ({})\".format( final1 , isPass(final1) )  ) \n",
    "\n",
    "essay2 = 4.5\n",
    "presentation2 = 5.5\n",
    "final2 = calculateMark(essay2, presentation2)\n",
    "print( \"final grade: {} ({})\".format( final2 , isPass(final2) )  ) \n"
   ]
  },
  {
   "cell_type": "markdown",
   "metadata": {},
   "source": [
    "## Exercise 4.2.\n",
    "\n",
    "Import the math library, as follows: \n",
    "\n",
    "```\n",
    "from math import *\n",
    "```\n",
    "\n",
    "This command simply imports all the available functions from the math library. Use the functions `log10()`, `pow()`, `sqrt()` and `cos()` to generate the following numbers: \n",
    "\n",
    "* The base-10 logarithm of 5.\n",
    "* 3 raised to the power of 4\n",
    "* The square root of 144\n",
    "* The cosine of 60 radians."
   ]
  },
  {
   "cell_type": "code",
   "execution_count": null,
   "metadata": {},
   "outputs": [],
   "source": [
    "# Import the library\n",
    "\n",
    "\n",
    "# Print the four numbers\n"
   ]
  },
  {
   "cell_type": "markdown",
   "metadata": {},
   "source": [
    "# Exercise 4.3. \n",
    "\n",
    "Write a function which can convert a given temperature in degrees Celcius into the equivalent in Fahrenheit. Use the following formula: F = 1.8 * C + 32.\n",
    "\n",
    "Once the function is ready, test it with a number of values. 20 degrees Celcius ought to be converted into 68 degrees Fahrenheit, and 37 degrees Celcius should equal 98.6 degrees Fahrenheit. "
   ]
  },
  {
   "cell_type": "code",
   "execution_count": null,
   "metadata": {},
   "outputs": [],
   "source": []
  },
  {
   "cell_type": "markdown",
   "metadata": {},
   "source": [
    "## Exercise 4.4.\n",
    "\n",
    "Following Pythagoras' theorem (A2 + B2 = C2), calculate the length of the hypothenuse in a right trangle in which the other two sides have a length of 6 and 7. Make use of the math module."
   ]
  },
  {
   "cell_type": "code",
   "execution_count": null,
   "metadata": {},
   "outputs": [],
   "source": []
  }
 ],
 "metadata": {
  "kernelspec": {
   "display_name": "Python 3",
   "language": "python",
   "name": "python3"
  },
  "language_info": {
   "codemirror_mode": {
    "name": "ipython",
    "version": 3
   },
   "file_extension": ".py",
   "mimetype": "text/x-python",
   "name": "python",
   "nbconvert_exporter": "python",
   "pygments_lexer": "ipython3",
   "version": "3.7.2"
  }
 },
 "nbformat": 4,
 "nbformat_minor": 2
}
