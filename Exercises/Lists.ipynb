{
 "cells": [
  {
   "cell_type": "markdown",
   "metadata": {},
   "source": [
    "# Lists - Exercises"
   ]
  },
  {
   "cell_type": "markdown",
   "metadata": {},
   "source": [
    "## Exercise 5.1.\n",
    "\n",
    "The list below contains the titles of first twelve plays written by William Shakespeare.\n",
    "\n",
    "```\n",
    "plays = [ 'Comedy of Errors' ,\n",
    "'Henry VI, Part I' ,\n",
    "'Henry VI, Part II' ,\n",
    "'Henry VI, Part III' ,\n",
    "'Richard III' ,\n",
    "'Taming of the Shrew' ,\n",
    "'Titus Andronicus' ,\n",
    "'Romeo and Juliet' ,\n",
    "'Two Gentlemen of Verona' ,\n",
    "'Love\\'s Labour\\'s Lost' ,\n",
    "'Richard II' ,\n",
    "'Midsummer Night\\'s Dream' ]\n",
    "```\n",
    "\n",
    "Add the following two titles to this list:\n",
    " \n",
    "* Macbeth\n",
    "* Othello\n",
    "\n",
    "Next, count the number of plays in this list and print the titles of the first and the last plays in the list, using the index of these items. \n",
    "Print the full list in alphabetical order using the `for` keyword.\n"
   ]
  },
  {
   "cell_type": "code",
   "execution_count": null,
   "metadata": {},
   "outputs": [],
   "source": [
    "# Create the list\n",
    "plays = [  ]\n",
    "\n",
    "# Add the other titles to the list\n",
    "\n",
    "\n",
    "# Print the number of items in the list\n",
    "\n",
    "# Print the first title\n",
    "\n",
    "# Print the last title\n",
    "\n",
    "\n",
    "# Print the list in alphabetical order\n"
   ]
  },
  {
   "cell_type": "markdown",
   "metadata": {},
   "source": [
    "## Exercise 5.2.\n",
    "\n",
    "Convert the following quotation from E.M. Forster’s *A Room with a View* to a list of words, using the `split()` method. This function can convert a string into a list, based on the spaces that occur in this string. Use this list to give information about the total number of words in this quote, and the number of occurrences of the word “place”.\n",
    "\n",
    "quote = \"We cast a shadow on something wherever we stand, and it is no good moving from place to place to save things; because the shadow always follows. Choose a place where you won’t do harm - yes, choose a place where you won’t do very much harm, and stand in it for all you are worth, facing the sunshine.\"\n"
   ]
  },
  {
   "cell_type": "code",
   "execution_count": null,
   "metadata": {},
   "outputs": [],
   "source": [
    "# Create the quote and split it into a list of words\n",
    "\n",
    "\n",
    "# How many words are there in total?\n",
    "\n",
    "\n",
    "# How many times do you count the word 'place'?\n"
   ]
  },
  {
   "cell_type": "markdown",
   "metadata": {},
   "source": [
    "## Exercise 5.3.\n",
    "\n",
    "Copy the code below.\n",
    "\n",
    "```\n",
    "sites = [ 'https://www.universiteitleiden.nl' ,\n",
    "'https://www.stanford.edu' , \n",
    "'https://www.uu.nl' , \n",
    "'http://www.ox.ac.uk' , \n",
    "'https://www.rug.nl' , \n",
    "'https://www.hu-berlin.de' , \n",
    "'https://www.uva.nl' ]\n",
    "```\n",
    "\n",
    "Write some additional code which can select the Dutch websites from this list.\n",
    "Tip: You may want to reuse some of the code developed for exercise 3.4.\n"
   ]
  },
  {
   "cell_type": "code",
   "execution_count": null,
   "metadata": {},
   "outputs": [],
   "source": [
    "# Add the items to the list\n",
    "sites = [  ]\n",
    "\n",
    "# Find the Dutch websites in the list\n"
   ]
  }
 ],
 "metadata": {
  "kernelspec": {
   "display_name": "Python 3",
   "language": "python",
   "name": "python3"
  },
  "language_info": {
   "codemirror_mode": {
    "name": "ipython",
    "version": 3
   },
   "file_extension": ".py",
   "mimetype": "text/x-python",
   "name": "python",
   "nbconvert_exporter": "python",
   "pygments_lexer": "ipython3",
   "version": "3.7.2"
  }
 },
 "nbformat": 4,
 "nbformat_minor": 2
}
