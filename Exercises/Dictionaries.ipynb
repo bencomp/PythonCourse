{
 "cells": [
  {
   "cell_type": "markdown",
   "metadata": {},
   "source": [
    "# Dictionaries - Exercises"
   ]
  },
  {
   "cell_type": "markdown",
   "metadata": {},
   "source": [
    "## Exercise 6.1.\n",
    "\n",
    "The code below creates a new dictionary. This dictionary connects a number of ISBNs to the titles of the books they identify.\n",
    "\n",
    "```\n",
    "isbn = {\n",
    "9780143105985 : 'White Noise' ,\n",
    "9780241984536 : 'Libra' ,\n",
    "9781925480665 : 'Mao II' ,\n",
    "9781447289395 : 'Underworld' ,\n",
    "9780743595728 : 'The Body Artist' ,\n",
    "9781925480665 : 'Cosmopolis' ,\n",
    "9780330524919 : 'Falling man' ,\n",
    "9781439169971 : 'Point Omega'\n",
    "}\n",
    "```\n",
    "\n",
    "* Add the novel Zero K to the dictionary. This novel has ISBN13 9781501138072.\n",
    "* Write some code which can print the title that corresponds to ISBN 9781447289395. \n",
    "* Print a list of all the novels. Display both the ISBN and the title. "
   ]
  },
  {
   "cell_type": "code",
   "execution_count": null,
   "metadata": {},
   "outputs": [],
   "source": [
    "# Create the dictionary\n",
    "isbn = {\n",
    "}\n",
    "\n",
    "# Add the novel\n",
    "\n",
    "\n",
    "# Print the title of the book with the ISBN 9781447289395\n",
    "\n",
    "\n",
    "# Print all ISBNs and titles\n"
   ]
  },
  {
   "cell_type": "markdown",
   "metadata": {},
   "source": [
    "## Exercise 6.2.\n",
    "\n",
    "Using the dictionary `data` below, print the following sentence: “Louis Elsevier was a printer. He was born in 1540 in Leuven and died in 1617 in Leiden.”\n",
    "\n",
    "```\n",
    "data = dict()\n",
    "\n",
    "data[\"firstName\"] = 'louis'\n",
    "data[\"lastName\"] = 'elsevier'\n",
    "data[\"profession\"] = 'printer'\n",
    "data[\"yob\"] = 1540\n",
    "data[\"yod\"] = 1617\n",
    "data[\"pob\"] = 'leuven'\n",
    "data[\"pod\"] = 'leiden'\n",
    "```"
   ]
  },
  {
   "cell_type": "code",
   "execution_count": null,
   "metadata": {},
   "outputs": [],
   "source": [
    "# Create the dictionary using the given code\n",
    "\n",
    "\n",
    "# Build and print the sentence using the data in the dictionary\n"
   ]
  },
  {
   "cell_type": "markdown",
   "metadata": {},
   "source": [
    "## Exercise 6.3.\n",
    "\n",
    "Copy the code below in your code editor. Using the dictionary `eu`, print a sentence which gives information about the current number of countries in the EU. Add some code which can print a list of all the countries of the EU in alphabetical order. Finally, print a list of all the capitals of these countries, also in alphabetical order.\n",
    "\n",
    "```\n",
    "eu = {\n",
    "'Italy':'Rome' , 'Luxembourg':'Luxembourg' ,\n",
    "'Belgium':'Brussels' , 'Denmark':'Copenhagen' ,\n",
    "'Finland':'Helsinki' , 'France':'Paris' ,\n",
    "'Slovakia':'Bratislava' , 'Slovenia':'Ljubljana' ,\n",
    "'Germany':'Berlin' , 'Greece':'Athens' ,\n",
    "'Ireland':'Dublin' , 'Netherlands':'Amsterdam' ,\n",
    "'Portugal':'Lisbon' , 'Spain':'Madrid' ,\n",
    "'Sweden':'Stockholm' ,\n",
    "'Cyprus':'Nicosia' , 'Lithuania':'Vilnius' , 'Czech\n",
    "Republic':'Prague' , 'Estonia':'Tallin' ,\n",
    "'Hungary':'Budapest' , 'Latvia':'Riga' ,\n",
    "'Malta':'Valetta' , 'Austria':'Vienna' ,\n",
    "'Poland':'Warsaw' , 'Croatia':'Zagreb'\n",
    ",'Romania':'Bucharest' , 'Bulgaria':'Sofia' }\n",
    "```"
   ]
  },
  {
   "cell_type": "code",
   "execution_count": null,
   "metadata": {},
   "outputs": [],
   "source": [
    "# Create the dictionary\n",
    "eu = {\n",
    "    \n",
    "}\n",
    "\n",
    "# How many countries are in the EU dictionary?\n",
    "\n",
    "\n",
    "# Print the list of countries in alphabetical order\n",
    "\n",
    "\n",
    "\n",
    "# We add a line for visual separation of lists\n",
    "print('\\n---------\\n')\n",
    "\n",
    "# CHALLENGE: print a list of capitals, sorted by alphabetical order\n"
   ]
  }
 ],
 "metadata": {
  "kernelspec": {
   "display_name": "Python 3",
   "language": "python",
   "name": "python3"
  },
  "language_info": {
   "codemirror_mode": {
    "name": "ipython",
    "version": 3
   },
   "file_extension": ".py",
   "mimetype": "text/x-python",
   "name": "python",
   "nbconvert_exporter": "python",
   "pygments_lexer": "ipython3",
   "version": "3.7.2"
  }
 },
 "nbformat": 4,
 "nbformat_minor": 2
}
