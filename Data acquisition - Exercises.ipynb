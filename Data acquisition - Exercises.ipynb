{
 "cells": [
  {
   "cell_type": "markdown",
   "metadata": {},
   "source": [
    "# Data acquisition - Exercises"
   ]
  },
  {
   "cell_type": "code",
   "execution_count": null,
   "metadata": {},
   "outputs": [],
   "source": [
    "The code below cownloads a collection of texts. When you run the code, the texts are saved on your computer, in the same folder as this notebook."
   ]
  },
  {
   "cell_type": "code",
   "execution_count": null,
   "metadata": {},
   "outputs": [],
   "source": [
    "import urllib.request\n",
    "import re\n",
    "import time\n",
    "\n",
    "def download( url ):\n",
    "\n",
    "    request = urllib.request.urlopen(url)\n",
    "    bytes = request.read()\n",
    "    fullText = bytes.decode(\"utf-8\")\n",
    "    request.close()\n",
    "\n",
    "    parts = re.split( '/' , url )\n",
    "    id = parts[-1]\n",
    "\n",
    "    out = open( id , 'w' , encoding = 'utf-8')\n",
    "    out.write( fullText )\n",
    "    out.close()\n",
    "    time.sleep( 3 )\n",
    "\n",
    "\n",
    "\n",
    "urls = [ 'http://www.gutenberg.org/files/580/580-0.txt' ,\n",
    "'http://www.gutenberg.org/files/1400/1400-0.txt' ,\n",
    "'http://www.gutenberg.org/files/786/786-0.txt' ,\n",
    "'http://www.gutenberg.org/files/766/766-0.txt' \n",
    "]\n",
    "\n",
    "for item in urls:\n",
    "    print(\"downloading \" + item + \" ...\")\n",
    "    download(item)"
   ]
  },
  {
   "cell_type": "code",
   "execution_count": null,
   "metadata": {},
   "outputs": [],
   "source": []
  },
  {
   "cell_type": "code",
   "execution_count": null,
   "metadata": {},
   "outputs": [],
   "source": []
  },
  {
   "cell_type": "code",
   "execution_count": null,
   "metadata": {},
   "outputs": [],
   "source": []
  },
  {
   "cell_type": "code",
   "execution_count": null,
   "metadata": {},
   "outputs": [],
   "source": []
  },
  {
   "cell_type": "code",
   "execution_count": null,
   "metadata": {},
   "outputs": [],
   "source": []
  }
 ],
 "metadata": {
  "kernelspec": {
   "display_name": "Python 3",
   "language": "python",
   "name": "python3"
  },
  "language_info": {
   "codemirror_mode": {
    "name": "ipython",
    "version": 3
   },
   "file_extension": ".py",
   "mimetype": "text/x-python",
   "name": "python",
   "nbconvert_exporter": "python",
   "pygments_lexer": "ipython3",
   "version": "3.7.2"
  }
 },
 "nbformat": 4,
 "nbformat_minor": 2
}
