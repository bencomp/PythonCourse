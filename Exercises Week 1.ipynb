{
 "cells": [
  {
   "cell_type": "code",
   "execution_count": 1,
   "metadata": {},
   "outputs": [
    {
     "name": "stdout",
     "output_type": "stream",
     "text": [
      "Hello world!\n"
     ]
    }
   ],
   "source": [
    "print(\"Hello world!\")"
   ]
  },
  {
   "cell_type": "code",
   "execution_count": 5,
   "metadata": {},
   "outputs": [
    {
     "name": "stdout",
     "output_type": "stream",
     "text": [
      "186.13\n"
     ]
    }
   ],
   "source": [
    "exchangeRate = 1.2409\n",
    "\n",
    "euros = 150\n",
    "\n",
    "dollars = euros * exchangeRate\n",
    "dollars = round( dollars , 2 ) \n",
    "\n",
    "\n",
    "print(dollars)"
   ]
  },
  {
   "cell_type": "code",
   "execution_count": 6,
   "metadata": {},
   "outputs": [
    {
     "name": "stdout",
     "output_type": "stream",
     "text": [
      "604800\n"
     ]
    }
   ],
   "source": [
    "secondPerDay = 60 * 60 * 24\n",
    "\n",
    "print ( 7 * secondPerDay )"
   ]
  },
  {
   "cell_type": "code",
   "execution_count": 7,
   "metadata": {},
   "outputs": [
    {
     "name": "stdout",
     "output_type": "stream",
     "text": [
      "The values is 5 and not 6\n"
     ]
    }
   ],
   "source": [
    "print('The values is {} and not {}'.format( 5 , 6 ))"
   ]
  },
  {
   "cell_type": "code",
   "execution_count": 10,
   "metadata": {},
   "outputs": [
    {
     "name": "stdout",
     "output_type": "stream",
     "text": [
      "The eighteenth century\n"
     ]
    }
   ],
   "source": [
    "year = 1745\n",
    "\n",
    "if year >= 1600 and year <= 1699:\n",
    "    print(\"The seventeenth century\")\n",
    "elif year >= 1700 and year <= 1799:\n",
    "    print(\"The eighteenth century\")\n",
    "else:\n",
    "    print(\"The nineteenth century\")\n",
    "    "
   ]
  },
  {
   "cell_type": "code",
   "execution_count": 12,
   "metadata": {},
   "outputs": [
    {
     "name": "stdout",
     "output_type": "stream",
     "text": [
      "1 times 5 is 5\n",
      "2 times 5 is 10\n",
      "3 times 5 is 15\n",
      "4 times 5 is 20\n",
      "5 times 5 is 25\n",
      "6 times 5 is 30\n",
      "7 times 5 is 35\n",
      "8 times 5 is 40\n",
      "9 times 5 is 45\n",
      "10 times 5 is 50\n"
     ]
    }
   ],
   "source": [
    "number = 5\n",
    "\n",
    "for counter in range( 1 , 11 ):\n",
    "    print( '{} times {} is {}'.format( counter , number , counter*number ) )"
   ]
  },
  {
   "cell_type": "code",
   "execution_count": 14,
   "metadata": {},
   "outputs": [
    {
     "name": "stdout",
     "output_type": "stream",
     "text": [
      "The value is 5 and not  6\n"
     ]
    }
   ],
   "source": [
    "print(\"The value is\" , 5 , \"and not \" , 6 )"
   ]
  },
  {
   "cell_type": "code",
   "execution_count": 25,
   "metadata": {},
   "outputs": [
    {
     "name": "stdout",
     "output_type": "stream",
     "text": [
      "university\n"
     ]
    }
   ],
   "source": [
    "string1 = 'unique'\n",
    "string2 = 'biodiversity'\n",
    "\n",
    "substring1 = string1[ 0 : 3 ]\n",
    "substring2 = string2[ string2.index('v') : len(string2) ]\n",
    "substring2 = string2[ -7:  ]\n",
    "\n",
    "\n",
    "#print( substring1 )\n",
    "#print( substring2 )\n",
    "\n",
    "print( substring1 + substring2 )\n",
    "## university"
   ]
  },
  {
   "cell_type": "code",
   "execution_count": 28,
   "metadata": {},
   "outputs": [
    {
     "name": "stdout",
     "output_type": "stream",
     "text": [
      ".DS_Store\n",
      ".ipynb_checkpoints\n",
      ".localized\n",
      "20190717102005.pdf\n",
      "20190717102046.pdf\n",
      "20190717102111.pdf\n",
      "20190717102125.pdf\n",
      "20190717102149.pdf\n",
      "20190717102216.pdf\n",
      "20190717102228.pdf\n",
      "20190718085833.pdf\n",
      "7.0.8-53\n",
      "Aangifte inkomstenbelasting 2016.pdf\n",
      "Adobe Flash Builder 4.7\n",
      "advanced-custom-fields\n",
      "archive2018.olm\n",
      "asn\n",
      "ASR_Schadeformulier.pdf\n",
      "BBU\n",
      "BDMS\n",
      "Belasting\n",
      "CDS\n",
      "CDS.pdf\n",
      "Coding challenges.ipynb\n",
      "CompLit.docx\n",
      "contract1.pdf\n",
      "contract2.pdf\n",
      "DACH_RDM_20180315.pptx\n",
      "data.txt\n",
      "deploy-pub\n",
      "Digital Editions\n",
      "DMT_XSLT2_2016.ppt\n",
      "EHBO.docx\n",
      "ELAG.docx\n",
      "FeestjeEline\n",
      "fiets.pdf\n",
      "fiets.tif\n",
      "frog-0.13.7\n",
      "frog-0.13.7.tar.gz\n",
      "frogdata-master\n",
      "Getting started.ipynb\n",
      "GG_W8- Leescultuur.pptx\n",
      "GrandLarge.docx\n",
      "id\n",
      "id.docx\n",
      "KITLV-logo.jpg\n",
      "Lars is lief.docx\n",
      "Lars.docx\n",
      "Lieve papa.docx\n",
      "Lists - Exercises.ipynb\n",
      "LUCAS.pdf\n",
      "M4M.pptx\n",
      "MAMP PRO\n",
      "MD.pdf\n",
      "MOOC\n",
      "omeka-s\n",
      "ORCID_conceptMail.docx\n",
      "Outlook for Mac Archive-2019.olm\n",
      "Outlook for Mac Archive.olm\n",
      "Outlook for Mac Archive2018.olm\n",
      "Overnachtingen.docx\n",
      "overnschtingen.docx\n",
      "Overzicht-HypotheekOrientatie-ABNAMRO.pdf\n",
      "overzicht-verhuizing.pdf\n",
      "overzicht.pdf\n",
      "P\n",
      "PAPA HEEFT EEN 1000000000000000000000000000000000000000000000 VOOR DE LIEFDE.docx\n",
      "Peter_verhaar.jpg\n",
      "PhD\n",
      "Processing\n",
      "Python Basics.ipynb\n",
      "Python Tutorial Part 2.ipynb\n",
      "Python Tutorial Part 3.ipynb\n",
      "Python Tutorial Part 4.ipynb\n",
      "Python Tutorial Part 5.ipynb\n",
      "Python Tutorial Part 6.ipynb\n",
      "Python Tutorial Part 7.ipynb\n",
      "Reflectie.docx\n",
      "Research_topics.docx\n",
      "Résidence Les Terrasses de Trestel.docx\n",
      "Rijndijk.xlsx\n",
      "Scan 2018-1-30 0002.pdf\n",
      "Scan 2018-12-7 0013.pdf\n",
      "Scan 2018-12-7 0015.pdf\n",
      "Scan 2018-12-7 0015.tiff\n",
      "Scan 2018-2-10 0002.pdf\n",
      "Scan 2018-2-10 0004.pdf\n",
      "Scan 2018-2-16 0002.pdf\n",
      "Scan 2018-6-12 0002.pdf\n",
      "Scan 2018-6-15 0002.pdf\n",
      "Scan 2018-7-26 0002.pdf\n",
      "scatterplot.png\n",
      "screencast1.mov\n",
      "SEPA1.pdf\n",
      "SEPA2.pdf\n",
      "signature.pdf\n",
      "Speurtocht.docx\n",
      "TaskForceOnderwijs\n",
      "TCP\n",
      "TDM\n",
      "tinymce-advanced\n",
      "Treinkaartje.tif\n",
      "Treinkaartje2.tif\n",
      "Uitnodiging\n",
      "Untitled.ipynb\n",
      "Untitled1.ipynb\n",
      "vakantie 2018-0708.docx\n",
      "vakantie 2018-2.docx\n",
      "vakantie 2018.docx\n",
      "vakantie-2018-4.docx\n",
      "vakantie-2018-5.docx\n",
      "Vakantie2018.docx\n",
      "Verbouwingskosten_NieuwVoordorpStraat.xlsx\n",
      "Verslag_Averz.docx\n",
      "Voordorpstraat.xlsx\n",
      "WebEx\n",
      "WijzigingsformulierBankrekeningnummer.pdf\n",
      "wooneisen.docx\n",
      "~$eurtocht.docx\n",
      "~$kantie 2018-2.docx\n",
      "~$kantie 2018-3.docx\n",
      "~$kantie-2018-4.docx\n",
      "~$Lars.docx\n",
      "~$rs is lief.docx\n"
     ]
    }
   ],
   "source": [
    "import os\n",
    "\n",
    "for file in os.listdir('/Users/verhaarpaf/Documents'):\n",
    "    print(file)"
   ]
  },
  {
   "cell_type": "code",
   "execution_count": 37,
   "metadata": {},
   "outputs": [
    {
     "name": "stdout",
     "output_type": "stream",
     "text": [
      "https://www.universiteitleiden.nl\n",
      "https://www.uu.nl\n",
      "https://www.rug.nl\n",
      "https://www.uva.nl\n"
     ]
    }
   ],
   "source": [
    "sites = [ 'https://www.universiteitleiden.nl' ,\n",
    "'https://www.stanford.edu' , 'https://www.uu.nl' ,\n",
    "'http://www.ox.ac.uk' , 'https://www.rug.nl' ,\n",
    "'https://www.hu-berlin.de' , 'https://www.uva.nl'\n",
    "]\n",
    "\n",
    "for url in sites:\n",
    "    tld = url[ url.rindex('.') : ]\n",
    "    #print( tld )\n",
    "    if tld == '.nl':\n",
    "        print( url )"
   ]
  },
  {
   "cell_type": "code",
   "execution_count": 46,
   "metadata": {},
   "outputs": [
    {
     "name": "stdout",
     "output_type": "stream",
     "text": [
      "We cast a shadow on something wherever we stand\n",
      " and it is no good moving from place to place to save things; because the shadow always follows. Choose a place where you won’t do harm - yes\n",
      " choose a place where you won’t do very much harm\n",
      " and stand in it for all you are worth\n",
      " facing the sunshine.\n"
     ]
    }
   ],
   "source": [
    "quote = \"We cast a shadow on something wherever we stand, and it is no good moving from place to place to save things; because the shadow always follows. Choose a place where you won’t do harm - yes, choose a place where you won’t do very much harm, and stand in it for all you are worth, facing the sunshine.\"\n",
    "\n",
    "words = quote.split(',')\n",
    "\n",
    "count = 0 \n",
    "\n",
    "for w in words:\n",
    "    print(w)\n"
   ]
  },
  {
   "cell_type": "code",
   "execution_count": null,
   "metadata": {},
   "outputs": [],
   "source": [
    "sentence = [ 'I' , 'love' , 'learning' , 'Python']"
   ]
  },
  {
   "cell_type": "code",
   "execution_count": 47,
   "metadata": {},
   "outputs": [],
   "source": [
    "eu = {\n",
    "'Italy':'Rome' , 'Luxembourg':'Luxembourg' , 'Belgium':'Brussels' , 'Denmark':'Copenhagen' , 'Finland':'Helsinki' , 'France':'Paris' , 'Slovakia':'Bratislava' , 'Slovenia':'Ljubljana' , 'Germany':'Berlin' , 'Greece':'Athens' , 'Ireland':'Dublin' , 'Netherlands':'Amsterdam' , 'Portugal':'Lisbon' , 'Spain':'Madrid' , 'Sweden':'Stockholm' , 'United Kingdom':'London' , 'Cyprus':'Nicosia' , 'Lithuania':'Vilnius' , 'Czech Republic':'Prague' , 'Estonia':'Tallin' , 'Hungary':'Budapest' , 'Latvia':'Riga' , 'Malta':'Valetta' , 'Austria':'Vienna' , 'Poland':'Warsaw' , 'Croatia':'Zagreb' ,'Romania':'Bucharest' , 'Bulgaria':'Sofia' }"
   ]
  },
  {
   "cell_type": "code",
   "execution_count": 48,
   "metadata": {},
   "outputs": [
    {
     "name": "stdout",
     "output_type": "stream",
     "text": [
      "28\n"
     ]
    }
   ],
   "source": [
    "print( len(eu) )"
   ]
  },
  {
   "cell_type": "code",
   "execution_count": 53,
   "metadata": {},
   "outputs": [
    {
     "name": "stdout",
     "output_type": "stream",
     "text": [
      "The capital of United Kingdom is London.\n",
      "The capital of Sweden is Stockholm.\n",
      "The capital of Spain is Madrid.\n",
      "The capital of Slovenia is Ljubljana.\n",
      "The capital of Slovakia is Bratislava.\n",
      "The capital of Romania is Bucharest.\n",
      "The capital of Portugal is Lisbon.\n",
      "The capital of Poland is Warsaw.\n",
      "The capital of Netherlands is Amsterdam.\n",
      "The capital of Malta is Valetta.\n",
      "The capital of Luxembourg is Luxembourg.\n",
      "The capital of Lithuania is Vilnius.\n",
      "The capital of Latvia is Riga.\n",
      "The capital of Italy is Rome.\n",
      "The capital of Ireland is Dublin.\n",
      "The capital of Hungary is Budapest.\n",
      "The capital of Greece is Athens.\n",
      "The capital of Germany is Berlin.\n",
      "The capital of France is Paris.\n",
      "The capital of Finland is Helsinki.\n",
      "The capital of Estonia is Tallin.\n",
      "The capital of Denmark is Copenhagen.\n",
      "The capital of Czech Republic is Prague.\n",
      "The capital of Cyprus is Nicosia.\n",
      "The capital of Croatia is Zagreb.\n",
      "The capital of Bulgaria is Sofia.\n",
      "The capital of Belgium is Brussels.\n",
      "The capital of Austria is Vienna.\n"
     ]
    }
   ],
   "source": [
    "def getSortedKeys( dict ):\n",
    "    return sorted( dict , key=lambda x: dict[x]) \n",
    "\n",
    "\n",
    "for country in reversed( sorted(eu) ):\n",
    "    print( 'The capital of {} is {}.'.format( country , eu[country]) )"
   ]
  },
  {
   "cell_type": "code",
   "execution_count": 61,
   "metadata": {},
   "outputs": [
    {
     "name": "stdout",
     "output_type": "stream",
     "text": [
      "Let me not to the marriage of true minds\n",
      "\n",
      "Admit impediments. Love is not love\n",
      "\n",
      "Which alters when it alteration finds,\n",
      "\n",
      "Or bends with the remover to remove:\n",
      "\n",
      "O, no! it is an ever-fixed mark,\n",
      "\n",
      "That looks on tempests and is never shaken;\n",
      "\n",
      "It is the star to every wandering bark,\n",
      "\n",
      "Whose worth’s unknown, although his height be taken.\n",
      "\n",
      "Love’s not Time’s fool, though rosy lips and cheeks\n",
      "\n",
      "Within his bending sickle’s compass come;\n",
      "\n",
      "Love alters not with his brief hours and weeks,\n",
      "\n",
      "But bears it out even to the edge of doom.\n",
      "\n",
      "If this be error and upon me proved,\n",
      "\n",
      "I never writ, nor no man ever loved.\n",
      "\n"
     ]
    }
   ],
   "source": [
    "text = open('sonnet116.txt')\n",
    "\n",
    "#fullText = text.read()\n",
    "\n",
    "#print(fullText)\n",
    "\n",
    "for anything in text:\n",
    "    print( anything )"
   ]
  },
  {
   "cell_type": "code",
   "execution_count": null,
   "metadata": {},
   "outputs": [],
   "source": []
  }
 ],
 "metadata": {
  "kernelspec": {
   "display_name": "Python 3",
   "language": "python",
   "name": "python3"
  },
  "language_info": {
   "codemirror_mode": {
    "name": "ipython",
    "version": 3
   },
   "file_extension": ".py",
   "mimetype": "text/x-python",
   "name": "python",
   "nbconvert_exporter": "python",
   "pygments_lexer": "ipython3",
   "version": "3.7.2"
  }
 },
 "nbformat": 4,
 "nbformat_minor": 2
}
