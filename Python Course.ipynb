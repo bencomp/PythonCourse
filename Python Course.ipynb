{
 "cells": [
  {
   "cell_type": "markdown",
   "metadata": {},
   "source": [
    "# Programming in Python, Spring 2020"
   ]
  },
  {
   "cell_type": "markdown",
   "metadata": {},
   "source": [
    "**Registration is closed, as the course has reached capacity.**\n",
    "\n",
    "## Practical information\n",
    "\n",
    "The course will take place on three Friday mornings: 6 March, 20 March and 3 April, between 9:30h and 12:30h.  \n",
    "The location is the [University Library, Heinsius room (2nd floor)](https://www.library.universiteitleiden.nl/locations/university-library).\n",
    "\n",
    "Your instructors are [Peter Verhaar][pv] and [Ben Companjen][bc], digital scholarship librarians and software engineers at Leiden University Libraries' Centre for Digital Scholarship.\n",
    "If you have any questions or remarks, please feel free to reach out.\n",
    "\n",
    "[pv]: https://www.universiteitleiden.nl/en/staffmembers/peter-verhaar\n",
    "[bc]: https://www.universiteitleiden.nl/en/staffmembers/ben-companjen"
   ]
  },
  {
   "cell_type": "markdown",
   "metadata": {},
   "source": [
    "## Preparations\n",
    "\n",
    "We request that you bring a laptop to the class with Python 3 installed. If possible, it saves time during the class if you already download the course materials before coming to class.\n",
    "\n",
    "### Install Python\n",
    "We would like to ask you to bring your own laptop to the classes, and to make sure that you have installed a recent version of Python (Python 3.7 or higher) before coming to the first session. We strongly advise you to install the Anaconda distribution of Python 3. The installation files can be found at the following address:\n",
    "    \n",
    "<https://www.anaconda.com/distribution/#download-section>\n",
    "    \n",
    "On this page, you can find separate instructions for Windows, Mac and Linux. Next to Python itself, the Anaconda distribution also contains Jupyter Notebook, an environment that can be used to document and to execute Python code. We will use Jupyter Notebooks in this course.\n",
    "\n",
    "See [Anaconda's installation instructions](https://docs.anaconda.com/anaconda/install/) for some important points to consider during installation. For example, the installation path *must not contain spaces*. If you want to use Anaconda Python from the command line, it helps to **add Anaconda to your PATH** during the installation, even though this is not recommended by the installer.\n",
    "\n",
    "If you experience difficulties during the installation of this software, do not hesitate to [contact the CDS via email](mailto:cds@library.leidenuniv.nl). If necessary, you can make an appointment and ask us to help you install the software. On the 6th of March, the course instructors shall be present in the Heinsius room from 9:00h onwards, to address any technical issues, if needed.\n",
    "\n",
    "### Download the course materials\n",
    "\n",
    "This is optional, though downloading the course materials beforehand should save some time in class. We may update the materials between classes; if we do we will say so at the start of the class.\n",
    "\n",
    "The latest version of the course materials is available as a zip file at <https://github.com/peterverhaar/PythonCourse/archive/master.zip>. When you download and unzip this, make sure you put the directory (`PythonCourse-master` by default) in a location that you can access from the Jupyter Notebook environment – your home directory should be a good location."
   ]
  },
  {
   "cell_type": "markdown",
   "metadata": {},
   "source": [
    "## Course setup\n",
    "\n",
    "In the course Peter en Ben will explain and demonstrate Python programming through live coding and prepared pieces of source code. These pieces are available in the tutorials below. The HTML version can be viewed in the browser directly, the Notebook can be downloaded and opened in Jupyter Notebook.  \n",
    "*If you downloaded the zip file, you don't need to download the individual notebooks.*\n",
    "\n",
    "There are exercises to allow you to apply the knowledge; their numbering follows the tutorials.  \n",
    "Solutions are also provided for the exercise questions.\n",
    "\n",
    "If you like to challenge yourself, have a look at the coding challenge."
   ]
  },
  {
   "cell_type": "markdown",
   "metadata": {},
   "source": [
    "## Tutorials\n",
    "\n",
    "| No | HTML version                                                                   | Notebook |\n",
    "|----|--------------------------------------------------------------------------------|----------|\n",
    "| 1. | [Variables and basic calculations](Tutorial/Variables%20and%20basic%20calculations.html) | [Variables and basic calculations](Tutorial/Variables%20and%20basic%20calculations.ipynb) |\n",
    "| 2. | [Flow control](Tutorial/Flow%20Control.html) | [Flow control](Tutorial/Flow%20Control.ipynb) |\n",
    "| 3. | [Working with strings](Tutorial/Working%20with%20strings.html) | [Working with strings](Tutorial/Working%20with%20strings.ipynb) |\n",
    "| 4. | [Functions, modules and libraries](Tutorial/Functions.html) | [Functions, modules and libraries](Tutorial/Functions.ipynb) |\n",
    "| 5. | [Lists](Tutorial/Lists.html) | [Lists](Tutorial/Lists.ipynb) |\n",
    "| 6. | [Dictionaries](Tutorial/Dictionaries.html) | [Dictionaries](Tutorial/Dictionaries.ipynb) |\n",
    "| 7. | [Working with files and folders](Tutorial/Working%20with%20files%20and%20folders.html) | [Working with files and folders](Tutorial/Working%20with%20files%20and%20folders.ipynb) |\n",
    "| 8. | [Regular expressions](Tutorial/Regular%20expressions.html) | [Regular expressions](Tutorial/Regular%20expressions.ipynb) |\n",
    "| 9. | [Data acquisition](Tutorial/Data%20acquisition.html) | [Data acquisition](Tutorial/Data%20acquisition.ipynb) |\n",
    "| 10.| [NLTK](Tutorial/NLTK.html) | [NLTK](Tutorial/NLTK.ipynb) |\n",
    "| 11.| [Data analysis with pandas](Tutorial/Pandas-intro.html) | [Data analysis with pandas](Tutorial/Pandas-intro.ipynb) |\n",
    "| 12.| [Data Visualisation with matplotlib](Tutorial/Visualisation.html) | [Data Visualisation with matplotlib](Tutorial/Visualisation.ipynb) |\n",
    "\n",
    "\n"
   ]
  },
  {
   "cell_type": "markdown",
   "metadata": {},
   "source": [
    "## Exercises\n",
    "\n",
    "| No | Exercises ('workbook')                                                         | Solutions |\n",
    "|----|--------------------------------------------------------------------------------|----------|\n",
    "| 1. | [Variables and basic calculations](Exercises/Variables%20and%20basic%20calculations.ipynb) | [Variables and basic calculations](Solutions/Variables%20and%20basic%20calculations.ipynb) |\n",
    "| 2. | [Flow control](Exercises/Flow%20Control.ipynb) | [Flow control](Solutions/Flow%20Control.ipynb) |\n",
    "| 3. | [Working with strings](Exercises/Working%20with%20strings.ipynb) | [Working with strings](Solutions/Working%20with%20strings.ipynb) |\n",
    "| 4. | [Functions, modules and libraries](Exercises/Functions.ipynb) | [Functions, modules and libraries](Solutions/Functions.ipynb) |\n",
    "| 5. | [Lists](Exercises/Lists.ipynb) | [Lists](Solutions/Lists.ipynb) |\n",
    "| 6. | [Dictionaries](Exercises/Dictionaries.ipynb) | [Dictionaries](Solutions/Dictionaries.ipynb) |\n",
    "| 7. | [Working with files and folders](Exercises/Working%20with%20files%20and%20folders.ipynb) | [Working with files and folders](Solutions/Working%20with%20files%20and%20folders.ipynb) |\n",
    "| 8. | [Regular expressions](Exercises/Regular%20expressions.ipynb) | [Regular expressions](Solutions/Regular%20expressions.ipynb) |\n",
    "| 9. | [Data acquisition](Exercises/Data%20acquisition.ipynb) | [Data acquisition](Solutions/Data%20acquisition.ipynb) |\n",
    "| 10.| [NLTK](Exercises/NLTK.ipynb) | [NLTK](Solutions/NLTK.ipynb) |\n",
    "| 11.| [Data analysis with pandas](Exercises/Pandas.ipynb) | [Data analysis with pandas](Solutions/Pandas.ipynb) |\n",
    "| 12.| [Data Visualisation with matplotlib](Exercises/Visualisation.ipynb) | [Data Visualisation with matplotlib](Solutions/Visualisation.ipynb) |\n"
   ]
  },
  {
   "cell_type": "markdown",
   "metadata": {},
   "source": [
    "## [Coding challenges](codingChallenges.html)"
   ]
  },
  {
   "cell_type": "markdown",
   "metadata": {},
   "source": [
    "## Slides\n",
    "\n",
    "* [Week 1](https://tdm.universiteitleiden.nl/Python/PythonCourse_W1.pptx)\n",
    "* [Week 2](https://tdm.universiteitleiden.nl/Python/PythonCourse_W2.pptx)\n",
    "* Week 3"
   ]
  }
 ],
 "metadata": {
  "kernelspec": {
   "display_name": "Python 3",
   "language": "python",
   "name": "python3"
  },
  "language_info": {
   "codemirror_mode": {
    "name": "ipython",
    "version": 3
   },
   "file_extension": ".py",
   "mimetype": "text/x-python",
   "name": "python",
   "nbconvert_exporter": "python",
   "pygments_lexer": "ipython3",
   "version": "3.7.2"
  }
 },
 "nbformat": 4,
 "nbformat_minor": 2
}
