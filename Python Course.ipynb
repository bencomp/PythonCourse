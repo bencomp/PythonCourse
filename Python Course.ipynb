{
 "cells": [
  {
   "cell_type": "markdown",
   "metadata": {},
   "source": [
    "# Programming in Python, Spring 2020"
   ]
  },
  {
   "cell_type": "markdown",
   "metadata": {},
   "source": [
    "## Practical information\n",
    "\n",
    "The course will take place on three Friday mornings: 6 March, 20 March and 3 April, between 9:30h and 12:30h.\n",
    "\n",
    "The location is the [University Library, Heinsius room (2nd floor)](https://www.library.universiteitleiden.nl/locations/university-library)."
   ]
  },
  {
   "cell_type": "markdown",
   "metadata": {},
   "source": [
    "## Tutorials\n",
    "\n",
    "1. [Variables and basic calculations](Variables%20and%20basic%20calculations.html)\n",
    "2. [Flow control](Flow%20Control.html)\n",
    "3. [Working with strings](Working%20with%20strings.html)\n",
    "4. [Functions, modules and libraries](Functions.html)\n",
    "5. [Lists](Lists.html)\n",
    "6. [Dictionaries](Dictionaries.html)\n",
    "7. [Working with files and folders](Working%20with%20files%20and%20folders.html)\n",
    "8. [Regular expressions](Regular%20expressions.html)\n",
    "9. [Data acquisition](Data%20acquisition.html)\n",
    "10. [NLTK](NLTK.html)\n",
    "11. [Data analysis with pandas]\n",
    "12. [Data Visualisation with matplotlib]\n",
    "\n",
    "\n",
    "\n"
   ]
  },
  {
   "cell_type": "markdown",
   "metadata": {},
   "source": [
    "\n",
    "## Exercises\n",
    "\n",
    "+ [Python exercises](https://tdm.universiteitleiden.nl/Python/PythonCourse-Exercises.pdf)\n",
    "+ Solutions to the exercises\n",
    "    1. [Variables and basic calculations](Variables%20and%20basic%20calculations%20-%20Exercises.html)\n",
    "    2. [Flow control](Flow%20control%20-%20Exercises.html)\n",
    "    3. [Working with strings](Working%20with%20strings%20-%20Exercises.html)\n",
    "    4. [Functions, modules and libraries](Functions%20-%20Exercises.html)\n",
    "    5. [Lists](Lists%20-%20Exercises.html)\n",
    "    6. [Dictionaries](Dictionaries%20-%20Exercises.html)\n",
    "    7. [Working with files and folders](https://tdm.universiteitleiden.nl/Python/Working%20with%20files%20and%20folders%20-%20Exercises.html)\n",
    "    8. [Regular expressions]\n",
    "    9. [Data acquisition]\n",
    "    10. [NLTK]\n",
    "    11. [Data analysis with pandas]\n",
    "    12. [Data visualisatino with matplotlib]"
   ]
  },
  {
   "cell_type": "markdown",
   "metadata": {},
   "source": [
    "## [Coding challenges](codingChallenges.html)"
   ]
  },
  {
   "cell_type": "markdown",
   "metadata": {},
   "source": [
    "## Slides\n",
    "\n",
    "* [Week 1](PythonCourse_W1.pptx)\n",
    "* Week 2\n",
    "* Week 3"
   ]
  },
  {
   "cell_type": "code",
   "execution_count": null,
   "metadata": {},
   "outputs": [],
   "source": []
  }
 ],
 "metadata": {
  "kernelspec": {
   "display_name": "Python 3",
   "language": "python",
   "name": "python3"
  },
  "language_info": {
   "codemirror_mode": {
    "name": "ipython",
    "version": 3
   },
   "file_extension": ".py",
   "mimetype": "text/x-python",
   "name": "python",
   "nbconvert_exporter": "python",
   "pygments_lexer": "ipython3",
   "version": "3.7.2"
  }
 },
 "nbformat": 4,
 "nbformat_minor": 2
}
