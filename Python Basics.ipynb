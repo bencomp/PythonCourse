{
 "cells": [
  {
   "cell_type": "markdown",
   "metadata": {},
   "source": [
    "# Python basics"
   ]
  },
  {
   "cell_type": "markdown",
   "metadata": {},
   "source": [
    "## Statements\n",
    "\n",
    "A computer program is essentially a series of instructions which enables a computer to perform a certain action. The individual instructions are generally referred to as statements. In the Python language, such statements are delineated by hard returns. The end of the statement (i.e. the hard return) is a cue which triggers the Python parser to interpret and to execute the statement. \n",
    "\n",
    "## Printing output\n",
    "\n",
    "Programs are generally written to solve specific problems, and they usually produce some output. This output can be the result of a calculation, for instance. The print() function can be used to communicate the output of the program to the user. As will be explained in more detail later, a function is a named collection of statements. The print() function is always used with parentheses. Inside the parentheses, you can provide the text that you would like the computer to display."
   ]
  },
  {
   "cell_type": "code",
   "execution_count": null,
   "metadata": {},
   "outputs": [],
   "source": [
    "print('This program works!')"
   ]
  },
  {
   "cell_type": "markdown",
   "metadata": {},
   "source": [
    "You can also format the text, to some extent. The character '\\t' prints a tab, and '\\n' creates a hard return. "
   ]
  },
  {
   "cell_type": "code",
   "execution_count": null,
   "metadata": {},
   "outputs": [],
   "source": [
    "print('This line contains \\ta tab. ')\n",
    "print('The print function adds a hard return  ')"
   ]
  },
  {
   "cell_type": "markdown",
   "metadata": {},
   "source": [
    "\n",
    "\n",
    "\n",
    "# Variables \n",
    "\n",
    "Virtually all programming languages make use of variables of some sort. Variables can be thought of as containers or as boxes in which information can be stored temporarily. Variables are always given a name, and they can also be given a value. \n",
    "\n",
    "Variables names can consist of any combination of alphanumerical characters that you can think of. Underscores are also allowed in variable names. One important rule, however, is that variable names cannot begin with a number. Although it is possible to work with any sequence of characters, your script will evidently be most understandable when you make use of variable names which are meaningful. Unlike other languages, there is no special symbol which indicates that the variable is indeed a variable.  Note that there are a number of reserved words which have a specific meaning in the Python language, and which cannot be used as variable names for this reason. The list of reserved words include ‘for’, ‘in’, ‘is’, ‘print’, ‘global’, ‘def’, ‘if, ‘elif’ and ‘else’. \n",
    "\n",
    "As mentioned, variables can be given a value. The act of giving a value to a certain variable is called assignment. In the first example, the variable named placeName is assigned the value ‘Leiden’. "
   ]
  },
  {
   "cell_type": "code",
   "execution_count": null,
   "metadata": {},
   "outputs": [],
   "source": [
    "placeName = 'Leiden'\n",
    "numberOfinhabitants = 123924"
   ]
  },
  {
   "cell_type": "markdown",
   "metadata": {},
   "source": [
    "Values are always of a specific type. In the example above, the variable placeName is assigned a string value. Simply put, a string is a sequence of characters and spaces. Strings can be created either with single quotes or with double quotes. The variable numberofInhabitants is an example of an integer (i.e. a natural number). Next to such integers, Python can also work with floating point numbers. "
   ]
  },
  {
   "cell_type": "code",
   "execution_count": null,
   "metadata": {},
   "outputs": [],
   "source": [
    "pi = 3.14159265359"
   ]
  },
  {
   "cell_type": "markdown",
   "metadata": {},
   "source": [
    "The type of a variable can be found by using the type() function, as follows: "
   ]
  },
  {
   "cell_type": "code",
   "execution_count": null,
   "metadata": {},
   "outputs": [],
   "source": [
    "age = 20\n",
    "print( type(age) )\n",
    "## this will print <class 'int'>\n"
   ]
  },
  {
   "cell_type": "markdown",
   "metadata": {},
   "source": [
    "## Comments\n",
    "\n",
    "Incidentally, the example above also illustrates another feature of the Pyhton language. Lines can be preceded by the hash (‘#’) symbol. Lines that start with a hash are called comments. Such comments can be very useful when you want to document your code. They can be used to explain what happens exactly in specific parts of the code. Comments are ignored by the Python interpreter.\n",
    "\n",
    "## Operators \n",
    "\n",
    "Computer are generally written to process certain data values. Values can be manipulated by making use of so-called operators. They are symbols that represent specific actions. They can be applied to values, or to variables representing certain values. The values that are combined with these operators are called the operands.\n",
    "\n",
    "Numerical values can be used in combination with mathematical operators:\n",
    "\n",
    "\n",
    "\n",
    "\n",
    "\n",
    "\n",
    "\n",
    "\n",
    "<table width=\"100%; \" style=\"text-align: left; \">\n",
    "<tr style=\"text-align: left; \" >\n",
    "    <td width=\"15%\" style=\"text-align: center; \">+</td>    \n",
    "<td style=\"text-align: left; padding-right: 40%;\">Addition</td>    \n",
    "</tr> \n",
    "    <tr style=\"text-align: left; \">\n",
    "    <td width=\"15%\" style=\"text-align: center; \">-</td>    \n",
    "<td style=\"text-align: left; \" >Subtraction</td>    \n",
    "</tr>\n",
    "      <tr style=\"text-align: left; \">\n",
    "    <td width=\"15%\" style=\"text-align: center; \" >*</td>    \n",
    "<td style=\"text-align: left; \" >Multiplication</td>    \n",
    "</tr>\n",
    "   <tr style=\"text-align: left; \">\n",
    "    <td width=\"15%\" style=\"text-align: center; \">/</td>    \n",
    "<td style=\"text-align: left; \" >Division</td>    \n",
    "</tr>\n",
    "</table>\n",
    "  </p>"
   ]
  },
  {
   "cell_type": "code",
   "execution_count": null,
   "metadata": {},
   "outputs": [],
   "source": [
    "# Firstly, we create two values a and b\n",
    "# and give them numerical values\n",
    "\n",
    "a = 4\n",
    "b = 3\n",
    "\n",
    "c = a + b\n",
    "print(c)\n",
    "# c now has value 7\n",
    "\n",
    "c = a * b ;\n",
    "print(c)\n",
    "#c now has value 12\n",
    "\n",
    "c = a - b\n",
    "print(c)\n",
    "# c has value 1\n",
    "\n",
    "c = c+1\n",
    "print(c)\n",
    "#c now has value 2\n",
    "\n",
    "c+= 1\n",
    "print(c)\n",
    "#c now has value 3. The syntax used in line 19 is\n",
    "#a shorthand notation for the statement given on line 16.\n",
    "\n"
   ]
  },
  {
   "cell_type": "markdown",
   "metadata": {},
   "source": [
    "## Boolean operators\n",
    "\n",
    "Boolean operators are operators which compare values. Unlike mathematical operators, such comparisons do not return a number, but a value which represents either true or false. The following Boolean operators can be used in combination with numerical values:\n",
    "\n",
    "\n",
    "==\tEqual to\n",
    "<\tLess than\n",
    ">\tGreater than\n",
    "<=\tLess than or equal to\n",
    ">=\tGreater than or equal to\n",
    "\n",
    "\n",
    "When operands are combined with Boolean operators, this combination is referred to as an expression. An expression is not yet a statement in itself, however. It is not an independent instruction for the computer. Boolean expressions are commonly used in statements which determine the flow control.\n",
    "\n",
    "## Selection\n",
    "\n",
    "By default, the Python moves through the code in a linear way. It simply executes all the statements in the order in which they are found in the programme. In some cases, however, a statement only needs to be performed under a certain condition. Alternatively, statements may also need to be repeated as long as a certain condition applies. \n",
    "\n",
    "In Python, there are various keywords that you can use to specify if, or how many times, a statement needs to be executed. These keywords are referred to as flow control structures. They typically make use of a Boolean expression which, in a given situation, can either be true or false. \n",
    "\n",
    "If a certain section of your program must only be executed if a certain condition is true, you can use the keyword ‘if’. When the expression following ‘if’ is true, the statements underneath the expression are executed. If not, these statements are ignored. The listing below offers an example:"
   ]
  },
  {
   "cell_type": "code",
   "execution_count": null,
   "metadata": {},
   "outputs": [],
   "source": [
    "number = 25\n",
    "\n",
    "if number > 20:\n",
    "    print(\"The number is higher than 20!\")\n"
   ]
  },
  {
   "cell_type": "markdown",
   "metadata": {},
   "source": [
    "Importantly, the spatial layout of the code is not arbitrary. The block of code that must be executed when the condition is true is indented using four spaces. In most code editors, the indentation that is created when you hit the tab button has exactly the length of four spaces. The statements that have the same indentation are all assumed to belong to the same block of code.\n",
    "\n",
    "Listing 1.2 only contains one condition. It is also possible, however, to let Python evaluate a series of conditions. In this case, you need to use the keywords ‘if’, ‘elif’ and ‘else’. An example can be seen below.\n"
   ]
  },
  {
   "cell_type": "code",
   "execution_count": null,
   "metadata": {},
   "outputs": [],
   "source": [
    "time = 22\n",
    "\n",
    "if time < 12:\n",
    "    print('Good morning!')\n",
    "elif time < 18:\n",
    "    print('Good afternoon!')\n",
    "else:\n",
    "    print('Good evening')\n"
   ]
  },
  {
   "cell_type": "markdown",
   "metadata": {},
   "source": [
    "If the condition that follows the ‘if’ keyword can be evaluated as \"true\", the first code block will be executed. If not, the condition that is given after elif will be evaluated. Python will execute the second block of code if that second condition is found to be “true”. The final set of statements will be executed only if all the two earlier conditions are evaluated to “false”. \n",
    "\n",
    "Note that only the keywords ‘if’ and ‘elif’ can be followed by a condition. The keyword ‘else’ always appears WITHOUT such a condition. The code block given after else contains the actions that must be performed if all the earlier conditions are false. \n",
    "\n",
    "Intermezzo: the format() function\n",
    "\n",
    "As was discussed above, you can use the print() function to communicate the output of your programme. About this function, it is important to stress that it can only take sting variables as input. In some situations, however, your output may consist of a combination of strings and other types of variables. This can be the case when you want to print a longer sentence discussing the results of a calculation, such as “5 plus 7 is 12”. If this is the sentence that you want to print, the integers in this sentence need to be converted into strings first, via the str() function. It may be accomplished as follows:\n"
   ]
  },
  {
   "cell_type": "code",
   "execution_count": null,
   "metadata": {},
   "outputs": [],
   "source": [
    "a = 5\n",
    "b = 7\n",
    "\n",
    "print( str(a) + ' plus ' + str(b) + ' is ' + str( a+b ) )\n",
    "\n",
    "## This prints '5 plus 7 is 12'"
   ]
  },
  {
   "cell_type": "markdown",
   "metadata": {},
   "source": [
    "Having to convert all integers to strings may be slightly cumbersome. An alternative solution is to make use of the format() method. It is a method which can convert any type of variable into a string. To use it, you need to append the name of the method to the string that you want to print. Within the parentheses, you need to mention all the variables whose values you want to print. Additionally, the string that you want to print needs to contain so-called placeholders, on the locations where the values of these variables should appear. These placeholders take the form of an empty set of curly brackets. The number of placeholders needs to be exactly the same as the number of variables mentioned in the format function. The format() returns a formatted string, with all variables simply inserted into the string, on the locations indicated by the placeholders. Listing 1.5 is an illustration. "
   ]
  },
  {
   "cell_type": "code",
   "execution_count": null,
   "metadata": {},
   "outputs": [],
   "source": [
    "a = 5\n",
    "b = 7\n",
    "\n",
    "print( '{} plus {} is {}'.format( a , b , a+b ) )\n",
    "\n",
    "## This prints '5 plus 7 is 12'\n"
   ]
  },
  {
   "cell_type": "markdown",
   "metadata": {},
   "source": [
    "# Iteration\n",
    "\n",
    "Next to the flow structures for selection, there are also flow control structures that can be used for repetitions of statements. Such repetitions are generally referred to as iterations. In Python, you can specify the number of times a set of statements are repeated by making use of ‘while’ or ‘for’. As is the case for ‘if’, the ‘while’ keyword should be followed by a test, or, more precisely, by a Boolean expression. The ‘while’ keyword initiates a loop. The statements that follow ‘while’ will be repeated as long as the expression is true. Clearly, it is necessary to ensure that the expression can also be evaluated to ‘false’ at some point, since the repetition will otherwise continue endlessly. The variable that can end the loop is called the iteration value. \n",
    "\n",
    "The code in listing 1.6 prints the multiplication table for the number 7. In the code below, the number of repetitions are counted using variable named i. The value of this variable is incremented in each repetition. The loop will terminate after the variable i has reached the value 11. \n"
   ]
  },
  {
   "cell_type": "code",
   "execution_count": null,
   "metadata": {},
   "outputs": [],
   "source": [
    "number = 7\n",
    "\n",
    "i = 1\n",
    "\n",
    "while i <= 10:\n",
    "    print(\"{} times {} is {}.\".format(i,number,(i*number)))\n",
    "    i += 1\n",
    "\n",
    "Listing 1.6."
   ]
  },
  {
   "cell_type": "markdown",
   "metadata": {},
   "source": [
    "In line 6 of this code, the variable named i is incremented with value 1. The statement that is used is a shorthand notation for the following statement:"
   ]
  },
  {
   "cell_type": "code",
   "execution_count": null,
   "metadata": {},
   "outputs": [],
   "source": [
    "i = i + 1\n",
    "## Same as i += 1"
   ]
  },
  {
   "cell_type": "markdown",
   "metadata": {},
   "source": [
    "The same algorithm can be implemented using the ‘for’ keyword. This keyword can be used in combination with the range() function, which can be used to generate a list of numbers. When the function is used with two integers, the function starts the list with the number which is mentioned first and it continues to add integers, as long as the value of these numbers is less than the number which is mentioned secondly. When you use range( 1, 11 ), for instance, this results in a list of integers ranging from 1 up and until 10. When you use ‘for i in range( 1 , 11 ) ’, the program will start a sequence of 10 loops. The code block below the ‘for’ keyword will be repeaded 10 times. Additionally, a new variable named ‘i’ will be created, and this variable will be assigned a different value during each of these iterations. It will receive the value i during the first loop, 2 during the second loop, and so on, as long as the value of i is less than 11."
   ]
  },
  {
   "cell_type": "code",
   "execution_count": null,
   "metadata": {},
   "outputs": [],
   "source": [
    "number = 8\n",
    "i = 1\n",
    "\n",
    "for i in range(1,11):\n",
    "    print(\"{} times {} is {}.\".format(i,number,(i*number)))\n",
    "    i += 1"
   ]
  },
  {
   "cell_type": "markdown",
   "metadata": {},
   "source": [
    "# Operators for strings\n",
    "\n",
    "The operators discussed above focused on operators which can be used to manipulate the value of numbers. One of the operators that you can use in combination with strings is the concatenation operator. Its symbol is the plus (‘+’). You can use this operator to combine two existing strings into a longer string. \n",
    "\n",
    "Listing 1.8 is a simple example. "
   ]
  },
  {
   "cell_type": "code",
   "execution_count": null,
   "metadata": {},
   "outputs": [],
   "source": [
    "first = \"Jane\"\n",
    "last = \"Austen\"\n",
    "full = first + \" \" + last\n",
    "\n",
    "print( 'Pride and Prejudice was written by ' + full)\n"
   ]
  },
  {
   "cell_type": "markdown",
   "metadata": {},
   "source": [
    "Listing 1.8 actually contains a number of concatenations. The variables ‘first’ and ‘second’ are combined into the variable named full. A very short string, consisting only of a space, is placed in between the first name and the last name. Line 5 uses this full variable in a sentence which is printed. \n",
    "\n",
    "As was explained, a string is essentially a sequence of characters. All the characters in such strings are also numbered. These numbers are referred to as indices. Python starts counting at 0. Using these indices, it becomes possible to extract specific characters from string variables. To do this, these indices needs to be provided in square brackets, as illustrated in listing 1.9. When you use negative numbers (e.g. -1 or -2), Python starts selecting characters at the end of the string and moves back."
   ]
  },
  {
   "cell_type": "code",
   "execution_count": null,
   "metadata": {},
   "outputs": [],
   "source": [
    "author = 'William Shakespeare'\n",
    "\n",
    "print( author[0] )\n",
    "## This prints 'W'\n",
    "\n",
    "print(author[4])\n",
    "## This prints 'i'\n",
    "\n",
    "print (author[-1])\n",
    "## This prints 'e'"
   ]
  },
  {
   "cell_type": "markdown",
   "metadata": {},
   "source": [
    "You can also extract a range of characters from a given string by providing the start position and the end position of the substring you want to create. The two indices must be separated by a colon. Strings such as these, which are created by extracting a substring from a longer string, are referred to as ‘slices’.\n"
   ]
  },
  {
   "cell_type": "code",
   "execution_count": null,
   "metadata": {},
   "outputs": [],
   "source": [
    "title = 'Romeo and Juliet'\n",
    "\n",
    "print( title[0:5] )\n",
    "# this prints 'Romeo'\n",
    "\n",
    "print( title[10:16])\n",
    "# this prints 'Juliet'\n"
   ]
  },
  {
   "cell_type": "markdown",
   "metadata": {},
   "source": [
    "Functions and methods for strings\n",
    "\n",
    "The len() is an in-built function which can return the length of a string. This function measures the length by counting the number of characters.\n",
    "\n",
    "The value a of string variable can also be manipulated by making use of methods. A method is similar to a function. A method, like a function, is a word that represents a certain action. While functions can be used independently, methods are always associated with a specific type of variable such as a string. We can call a method by appending the name of the method to the name of the variable. The variable and the method must be delimited by a period. The following methods are available for string objects:\n",
    "\n",
    "upper()\tConverts all the characters of the string into upper case.\n",
    "lower()\tConverts all the characters of the string into lower case.\n",
    "strip()\tRemoves all white space (such as spaces, hard returns or tabs) from the beginning and the end of a string \n",
    "\n",
    "Listing 1.11 Gives an indication of how these methods may be used."
   ]
  },
  {
   "cell_type": "code",
   "execution_count": null,
   "metadata": {},
   "outputs": [],
   "source": [
    "title = \"   The Hitchhiker's Guide to the Galaxy   \"\n",
    "\n",
    "title = title.strip()\n",
    "#this removes the spaces before and after the original string\n",
    "\n",
    "print( len(title) )\n",
    "## This prints 36\n",
    "\n",
    "print( title.lower() )\n",
    "## This prints 'the hitchhiker's guide to the galaxy'\n",
    "\n",
    "print( title.upper() )\n",
    "## This prints 'THE HITCHHIKER'S GUIDE TO THE GALAXY'\n",
    "\n",
    "Listing 1.11\n"
   ]
  },
  {
   "cell_type": "markdown",
   "metadata": {},
   "source": [
    "# Exercises\n",
    "\n"
   ]
  },
  {
   "cell_type": "code",
   "execution_count": null,
   "metadata": {},
   "outputs": [],
   "source": []
  }
 ],
 "metadata": {
  "kernelspec": {
   "display_name": "Python 3",
   "language": "python",
   "name": "python3"
  },
  "language_info": {
   "codemirror_mode": {
    "name": "ipython",
    "version": 3
   },
   "file_extension": ".py",
   "mimetype": "text/x-python",
   "name": "python",
   "nbconvert_exporter": "python",
   "pygments_lexer": "ipython3",
   "version": "3.7.2"
  }
 },
 "nbformat": 4,
 "nbformat_minor": 2
}
