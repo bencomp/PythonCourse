{
 "cells": [
  {
   "cell_type": "markdown",
   "metadata": {},
   "source": [
    "# Working with Pandas\n",
    "\n",
    "This tutorial demonstrates a few of Pandas's many functionalities for working with tabular data. We are only scratching the surface here…\n",
    "\n",
    "To use the `pandas` library, we need to import it. Because we will call the library multiple times, we *alias* it during the import."
   ]
  },
  {
   "cell_type": "code",
   "execution_count": 1,
   "metadata": {},
   "outputs": [],
   "source": [
    "import pandas as pd"
   ]
  },
  {
   "cell_type": "markdown",
   "metadata": {},
   "source": [
    "## Loading data from a file\n",
    "\n",
    "Because reading data from (and writing data to) files is a very common task, Pandas tries to make this easy for you. It accepts [various file formats](https://pandas.pydata.org/pandas-docs/stable/user_guide/io.html), like CSV (comma-separated values), TSV (tab-separated values), Microsoft Excel (.xls/.xlsx), OpenOffice/LibreOffice spreadsheets and more.\n",
    "\n",
    "We will work with the text-based CSV format, so we use the `pd.read_csv()` method. This method tries to determine the parameters it needs to read the file, but there may be times that you need to help by setting parameters explicitly.\n",
    "\n",
    "Let's first look at the first lines of the file."
   ]
  },
  {
   "cell_type": "code",
   "execution_count": 31,
   "metadata": {},
   "outputs": [
    {
     "name": "stdout",
     "output_type": "stream",
     "text": [
      "﻿Archief ;toegang;inv. ;wiens verkoping ;jaar ;maand;dag ;soort product ;specifiek product ;meeteenheid;hoeveelheid;Achternaam;Voornaam;munteenheid;aantal (ponden/ guldens);aantal groten of stuivers\n",
      "\n",
      "NL-HaNA;1.04.02;13377;VOC kamer Zeeland;1725;4;18;Peper;Bruijne;ponden;770459;Boursse;H. van;Vlaamse pond;45399;\n",
      "\n",
      "NL-HaNA;1.04.02;13377;VOC kamer Zeeland;1725;4;18;Peper;Bruijne;ponden;35375;Huijen;Joost van ;Vlaamse pond;2063;12\n",
      "\n",
      "NL-HaNA;1.04.02;13377;VOC kamer Zeeland;1725;4;18;Peper;Bruijne;ponden;25856;Pookx;Hendrik;Vlaamse pond;1523;5\n",
      "\n",
      "NL-HaNA;1.04.02;13377;VOC kamer Zeeland;1725;4;18;Peper;Bruijne;ponden;282314;Ribaut;Casparus;Vlaamse pond;16625;6\n",
      "\n",
      "NL-HaNA;1.04.02;13377;VOC kamer Zeeland;1725;4;18;Peper;Bruijne;ponden;47622;Six;Pieter;Vlaamse pond;2805;11\n",
      "\n",
      "NL-HaNA;1.04.02;13377;VOC kamer Zeeland;1725;4;18;Peper;Bruijne;ponden;25788;Beukelaar;Jan ;Vlaamse pond;1519;4\n",
      "\n"
     ]
    }
   ],
   "source": [
    "auctions_file = '/Users/companjenba/Downloads/1572968493008-Lijsten_van_de_leverantie/CSV Veilingen_VOC_Zeeland 27-03-2017.csv'\n",
    "\n",
    "f = open(auctions_file)\n",
    "# with open(auctions_file) as f:\n",
    "\n",
    "# for line in f:\n",
    "#     print(line)\n",
    "    \n",
    "    \n",
    "for line_number, line in enumerate(f):\n",
    "    print(line)\n",
    "    if line_number > 5:\n",
    "        break"
   ]
  },
  {
   "cell_type": "markdown",
   "metadata": {},
   "source": [
    "So it turns out the delimiter is a semicolon, not a comma. When you read a CSV file, Pandas may not notice – in this case because there are a few commas as well. There is a header row, the first data row has a missing value (and it's not the only one!) and there are various data types in here: strings and numbers.\n",
    "\n",
    "The result of `pd.read_csv(<filename>)` is an object called a *DataFrame*. For now it's enough to know that a DataFrame is like a table, with columns and rows."
   ]
  },
  {
   "cell_type": "code",
   "execution_count": 3,
   "metadata": {},
   "outputs": [],
   "source": [
    "auctions_df = pd.read_csv(auctions_file, delimiter=';')"
   ]
  },
  {
   "cell_type": "markdown",
   "metadata": {},
   "source": [
    "## Inspecting the DataFrame\n",
    "\n",
    "The `head()` method of a DataFrame shows the first rows, five by default.\n",
    "\n",
    "The `dtypes` property of a DataFrame shows the data types of the columns in the DataFrame."
   ]
  },
  {
   "cell_type": "code",
   "execution_count": 4,
   "metadata": {},
   "outputs": [
    {
     "data": {
      "text/html": [
       "<div>\n",
       "<style scoped>\n",
       "    .dataframe tbody tr th:only-of-type {\n",
       "        vertical-align: middle;\n",
       "    }\n",
       "\n",
       "    .dataframe tbody tr th {\n",
       "        vertical-align: top;\n",
       "    }\n",
       "\n",
       "    .dataframe thead th {\n",
       "        text-align: right;\n",
       "    }\n",
       "</style>\n",
       "<table border=\"1\" class=\"dataframe\">\n",
       "  <thead>\n",
       "    <tr style=\"text-align: right;\">\n",
       "      <th></th>\n",
       "      <th>Archief</th>\n",
       "      <th>toegang</th>\n",
       "      <th>inv.</th>\n",
       "      <th>wiens verkoping</th>\n",
       "      <th>jaar</th>\n",
       "      <th>maand</th>\n",
       "      <th>dag</th>\n",
       "      <th>soort product</th>\n",
       "      <th>specifiek product</th>\n",
       "      <th>meeteenheid</th>\n",
       "      <th>hoeveelheid</th>\n",
       "      <th>Achternaam</th>\n",
       "      <th>Voornaam</th>\n",
       "      <th>munteenheid</th>\n",
       "      <th>aantal (ponden/ guldens)</th>\n",
       "      <th>aantal groten of stuivers</th>\n",
       "    </tr>\n",
       "  </thead>\n",
       "  <tbody>\n",
       "    <tr>\n",
       "      <th>0</th>\n",
       "      <td>NL-HaNA</td>\n",
       "      <td>1.04.02</td>\n",
       "      <td>13377</td>\n",
       "      <td>VOC kamer Zeeland</td>\n",
       "      <td>1725</td>\n",
       "      <td>4</td>\n",
       "      <td>18</td>\n",
       "      <td>Peper</td>\n",
       "      <td>Bruijne</td>\n",
       "      <td>ponden</td>\n",
       "      <td>770459</td>\n",
       "      <td>Boursse</td>\n",
       "      <td>H. van</td>\n",
       "      <td>Vlaamse pond</td>\n",
       "      <td>45399.0</td>\n",
       "      <td>NaN</td>\n",
       "    </tr>\n",
       "    <tr>\n",
       "      <th>1</th>\n",
       "      <td>NL-HaNA</td>\n",
       "      <td>1.04.02</td>\n",
       "      <td>13377</td>\n",
       "      <td>VOC kamer Zeeland</td>\n",
       "      <td>1725</td>\n",
       "      <td>4</td>\n",
       "      <td>18</td>\n",
       "      <td>Peper</td>\n",
       "      <td>Bruijne</td>\n",
       "      <td>ponden</td>\n",
       "      <td>35375</td>\n",
       "      <td>Huijen</td>\n",
       "      <td>Joost van</td>\n",
       "      <td>Vlaamse pond</td>\n",
       "      <td>2063.0</td>\n",
       "      <td>12</td>\n",
       "    </tr>\n",
       "    <tr>\n",
       "      <th>2</th>\n",
       "      <td>NL-HaNA</td>\n",
       "      <td>1.04.02</td>\n",
       "      <td>13377</td>\n",
       "      <td>VOC kamer Zeeland</td>\n",
       "      <td>1725</td>\n",
       "      <td>4</td>\n",
       "      <td>18</td>\n",
       "      <td>Peper</td>\n",
       "      <td>Bruijne</td>\n",
       "      <td>ponden</td>\n",
       "      <td>25856</td>\n",
       "      <td>Pookx</td>\n",
       "      <td>Hendrik</td>\n",
       "      <td>Vlaamse pond</td>\n",
       "      <td>1523.0</td>\n",
       "      <td>5</td>\n",
       "    </tr>\n",
       "    <tr>\n",
       "      <th>3</th>\n",
       "      <td>NL-HaNA</td>\n",
       "      <td>1.04.02</td>\n",
       "      <td>13377</td>\n",
       "      <td>VOC kamer Zeeland</td>\n",
       "      <td>1725</td>\n",
       "      <td>4</td>\n",
       "      <td>18</td>\n",
       "      <td>Peper</td>\n",
       "      <td>Bruijne</td>\n",
       "      <td>ponden</td>\n",
       "      <td>282314</td>\n",
       "      <td>Ribaut</td>\n",
       "      <td>Casparus</td>\n",
       "      <td>Vlaamse pond</td>\n",
       "      <td>16625.0</td>\n",
       "      <td>6</td>\n",
       "    </tr>\n",
       "    <tr>\n",
       "      <th>4</th>\n",
       "      <td>NL-HaNA</td>\n",
       "      <td>1.04.02</td>\n",
       "      <td>13377</td>\n",
       "      <td>VOC kamer Zeeland</td>\n",
       "      <td>1725</td>\n",
       "      <td>4</td>\n",
       "      <td>18</td>\n",
       "      <td>Peper</td>\n",
       "      <td>Bruijne</td>\n",
       "      <td>ponden</td>\n",
       "      <td>47622</td>\n",
       "      <td>Six</td>\n",
       "      <td>Pieter</td>\n",
       "      <td>Vlaamse pond</td>\n",
       "      <td>2805.0</td>\n",
       "      <td>11</td>\n",
       "    </tr>\n",
       "  </tbody>\n",
       "</table>\n",
       "</div>"
      ],
      "text/plain": [
       "  Archief   toegang  inv.    wiens verkoping   jaar   maand  dag   \\\n",
       "0  NL-HaNA  1.04.02  13377  VOC kamer Zeeland   1725      4    18   \n",
       "1  NL-HaNA  1.04.02  13377  VOC kamer Zeeland   1725      4    18   \n",
       "2  NL-HaNA  1.04.02  13377  VOC kamer Zeeland   1725      4    18   \n",
       "3  NL-HaNA  1.04.02  13377  VOC kamer Zeeland   1725      4    18   \n",
       "4  NL-HaNA  1.04.02  13377  VOC kamer Zeeland   1725      4    18   \n",
       "\n",
       "  soort product  specifiek product  meeteenheid hoeveelheid Achternaam  \\\n",
       "0          Peper            Bruijne      ponden      770459    Boursse   \n",
       "1          Peper            Bruijne      ponden       35375     Huijen   \n",
       "2          Peper            Bruijne      ponden       25856      Pookx   \n",
       "3          Peper            Bruijne      ponden      282314     Ribaut   \n",
       "4          Peper            Bruijne      ponden       47622        Six   \n",
       "\n",
       "     Voornaam   munteenheid  aantal (ponden/ guldens)  \\\n",
       "0      H. van  Vlaamse pond                   45399.0   \n",
       "1  Joost van   Vlaamse pond                    2063.0   \n",
       "2     Hendrik  Vlaamse pond                    1523.0   \n",
       "3    Casparus  Vlaamse pond                   16625.0   \n",
       "4      Pieter  Vlaamse pond                    2805.0   \n",
       "\n",
       "  aantal groten of stuivers  \n",
       "0                       NaN  \n",
       "1                        12  \n",
       "2                         5  \n",
       "3                         6  \n",
       "4                        11  "
      ]
     },
     "execution_count": 4,
     "metadata": {},
     "output_type": "execute_result"
    }
   ],
   "source": [
    "auctions_df.head()"
   ]
  },
  {
   "cell_type": "code",
   "execution_count": 15,
   "metadata": {},
   "outputs": [
    {
     "data": {
      "text/plain": [
       "Archief                       object\n",
       "toegang                       object\n",
       "inv.                           int64\n",
       "wiens verkoping               object\n",
       "jaar                           int64\n",
       "maand                          int64\n",
       "dag                            int64\n",
       "soort product                 object\n",
       "specifiek product             object\n",
       "meeteenheid                   object\n",
       "hoeveelheid                   object\n",
       "Achternaam                    object\n",
       "Voornaam                      object\n",
       "munteenheid                   object\n",
       "aantal (ponden/ guldens)     float64\n",
       "aantal groten of stuivers     object\n",
       "dtype: object"
      ]
     },
     "execution_count": 15,
     "metadata": {},
     "output_type": "execute_result"
    }
   ],
   "source": [
    "auctions_df.dtypes"
   ]
  },
  {
   "cell_type": "code",
   "execution_count": 18,
   "metadata": {},
   "outputs": [
    {
     "data": {
      "text/plain": [
       "1          463\n",
       "2          218\n",
       "3          129\n",
       "100        123\n",
       "200        112\n",
       "400         83\n",
       "4           81\n",
       "50          78\n",
       "10000       75\n",
       "80          60\n",
       "4000        60\n",
       "300         57\n",
       "5           55\n",
       "500         51\n",
       "20000       49\n",
       "5000        49\n",
       "40          45\n",
       "160         41\n",
       "60          40\n",
       "6           40\n",
       "600         39\n",
       "180         31\n",
       "120         30\n",
       "10          28\n",
       "8           28\n",
       "7           28\n",
       "150         26\n",
       "1000        25\n",
       "700         23\n",
       "800         22\n",
       "          ... \n",
       "8197         1\n",
       "23388        1\n",
       "1708         1\n",
       "120143       1\n",
       "71390        1\n",
       "20043        1\n",
       "545          1\n",
       "10346        1\n",
       "4200         1\n",
       "276530       1\n",
       "4811         1\n",
       "4991         1\n",
       "7701         1\n",
       "18641        1\n",
       "14307,5      1\n",
       "18578        1\n",
       "21374        1\n",
       "291956       1\n",
       "143900       1\n",
       "1863         1\n",
       "25860        1\n",
       "47086        1\n",
       "98930        1\n",
       "168798       1\n",
       "178203       1\n",
       "209092       1\n",
       "3086         1\n",
       "3857         1\n",
       "2994         1\n",
       "771206       1\n",
       "Name: hoeveelheid, Length: 6571, dtype: int64"
      ]
     },
     "execution_count": 18,
     "metadata": {},
     "output_type": "execute_result"
    }
   ],
   "source": [
    "auctions_df['hoeveelheid'].value_counts()"
   ]
  },
  {
   "cell_type": "code",
   "execution_count": 28,
   "metadata": {},
   "outputs": [],
   "source": [
    "auctions_df['hoeveelheid_float'] = pd.to_numeric(auctions_df['hoeveelheid'].str.replace(r',', '.'), errors='coerce')"
   ]
  },
  {
   "cell_type": "code",
   "execution_count": 29,
   "metadata": {},
   "outputs": [
    {
     "data": {
      "text/plain": [
       "True"
      ]
     },
     "execution_count": 29,
     "metadata": {},
     "output_type": "execute_result"
    }
   ],
   "source": [
    "auctions_df['hoeveelheid_float'].isna().any()"
   ]
  },
  {
   "cell_type": "code",
   "execution_count": 30,
   "metadata": {},
   "outputs": [
    {
     "data": {
      "text/html": [
       "<div>\n",
       "<style scoped>\n",
       "    .dataframe tbody tr th:only-of-type {\n",
       "        vertical-align: middle;\n",
       "    }\n",
       "\n",
       "    .dataframe tbody tr th {\n",
       "        vertical-align: top;\n",
       "    }\n",
       "\n",
       "    .dataframe thead th {\n",
       "        text-align: right;\n",
       "    }\n",
       "</style>\n",
       "<table border=\"1\" class=\"dataframe\">\n",
       "  <thead>\n",
       "    <tr style=\"text-align: right;\">\n",
       "      <th></th>\n",
       "      <th>inv.</th>\n",
       "      <th>jaar</th>\n",
       "      <th>maand</th>\n",
       "      <th>dag</th>\n",
       "      <th>aantal (ponden/ guldens)</th>\n",
       "      <th>hoeveelheid_float</th>\n",
       "    </tr>\n",
       "  </thead>\n",
       "  <tbody>\n",
       "    <tr>\n",
       "      <th>inv.</th>\n",
       "      <td>NaN</td>\n",
       "      <td>NaN</td>\n",
       "      <td>NaN</td>\n",
       "      <td>NaN</td>\n",
       "      <td>NaN</td>\n",
       "      <td>NaN</td>\n",
       "    </tr>\n",
       "    <tr>\n",
       "      <th>jaar</th>\n",
       "      <td>NaN</td>\n",
       "      <td>1.000000</td>\n",
       "      <td>0.168298</td>\n",
       "      <td>-0.092449</td>\n",
       "      <td>0.031164</td>\n",
       "      <td>-0.012020</td>\n",
       "    </tr>\n",
       "    <tr>\n",
       "      <th>maand</th>\n",
       "      <td>NaN</td>\n",
       "      <td>0.168298</td>\n",
       "      <td>1.000000</td>\n",
       "      <td>-0.142187</td>\n",
       "      <td>-0.090642</td>\n",
       "      <td>-0.074787</td>\n",
       "    </tr>\n",
       "    <tr>\n",
       "      <th>dag</th>\n",
       "      <td>NaN</td>\n",
       "      <td>-0.092449</td>\n",
       "      <td>-0.142187</td>\n",
       "      <td>1.000000</td>\n",
       "      <td>-0.023240</td>\n",
       "      <td>-0.004669</td>\n",
       "    </tr>\n",
       "    <tr>\n",
       "      <th>aantal (ponden/ guldens)</th>\n",
       "      <td>NaN</td>\n",
       "      <td>0.031164</td>\n",
       "      <td>-0.090642</td>\n",
       "      <td>-0.023240</td>\n",
       "      <td>1.000000</td>\n",
       "      <td>0.604201</td>\n",
       "    </tr>\n",
       "    <tr>\n",
       "      <th>hoeveelheid_float</th>\n",
       "      <td>NaN</td>\n",
       "      <td>-0.012020</td>\n",
       "      <td>-0.074787</td>\n",
       "      <td>-0.004669</td>\n",
       "      <td>0.604201</td>\n",
       "      <td>1.000000</td>\n",
       "    </tr>\n",
       "  </tbody>\n",
       "</table>\n",
       "</div>"
      ],
      "text/plain": [
       "                          inv.      jaar      maand      dag   \\\n",
       "inv.                        NaN       NaN       NaN       NaN   \n",
       "jaar                        NaN  1.000000  0.168298 -0.092449   \n",
       "maand                       NaN  0.168298  1.000000 -0.142187   \n",
       "dag                         NaN -0.092449 -0.142187  1.000000   \n",
       "aantal (ponden/ guldens)    NaN  0.031164 -0.090642 -0.023240   \n",
       "hoeveelheid_float           NaN -0.012020 -0.074787 -0.004669   \n",
       "\n",
       "                          aantal (ponden/ guldens)  hoeveelheid_float  \n",
       "inv.                                           NaN                NaN  \n",
       "jaar                                      0.031164          -0.012020  \n",
       "maand                                    -0.090642          -0.074787  \n",
       "dag                                      -0.023240          -0.004669  \n",
       "aantal (ponden/ guldens)                  1.000000           0.604201  \n",
       "hoeveelheid_float                         0.604201           1.000000  "
      ]
     },
     "execution_count": 30,
     "metadata": {},
     "output_type": "execute_result"
    }
   ],
   "source": [
    "auctions_df.corr()"
   ]
  },
  {
   "cell_type": "code",
   "execution_count": 6,
   "metadata": {},
   "outputs": [
    {
     "data": {
      "text/plain": [
       "ponden           10170\n",
       "pesen             3227\n",
       "coopen             434\n",
       "leggers            239\n",
       "aamen              170\n",
       "lasten              72\n",
       "halve leggers       54\n",
       "kelders             40\n",
       "bottels             20\n",
       "halve aam            7\n",
       "stroopen             4\n",
       "ons                  3\n",
       "ankers               2\n",
       "flessen              2\n",
       "kisten               2\n",
       "zakken               1\n",
       "ons                  1\n",
       "vaten                1\n",
       "fust                 1\n",
       "Name: meeteenheid, dtype: int64"
      ]
     },
     "execution_count": 6,
     "metadata": {},
     "output_type": "execute_result"
    }
   ],
   "source": [
    "auctions_df['meeteenheid'].value_counts()"
   ]
  },
  {
   "cell_type": "code",
   "execution_count": 7,
   "metadata": {},
   "outputs": [
    {
     "data": {
      "text/plain": [
       "6      765\n",
       "16     765\n",
       "10     744\n",
       "7      743\n",
       "13     740\n",
       "18     737\n",
       "5      736\n",
       "8      731\n",
       "12     728\n",
       "3      724\n",
       "11     716\n",
       "4      713\n",
       "17     712\n",
       "1      708\n",
       "14     700\n",
       "15     699\n",
       "19     687\n",
       "9      681\n",
       "2      668\n",
       "-        2\n",
       "29       2\n",
       "34       1\n",
       "132      1\n",
       "64       1\n",
       "162      1\n",
       "181      1\n",
       "18\\      1\n",
       "26       1\n",
       "24       1\n",
       "Name: aantal groten of stuivers, dtype: int64"
      ]
     },
     "execution_count": 7,
     "metadata": {},
     "output_type": "execute_result"
    }
   ],
   "source": [
    "auctions_df['aantal groten of stuivers'].value_counts()"
   ]
  },
  {
   "cell_type": "markdown",
   "metadata": {},
   "source": [
    "## Aggregations"
   ]
  },
  {
   "cell_type": "code",
   "execution_count": 8,
   "metadata": {},
   "outputs": [],
   "source": [
    "transactions_by_buyer = auctions_df.groupby(['Achternaam','Voornaam'])"
   ]
  },
  {
   "cell_type": "code",
   "execution_count": 12,
   "metadata": {},
   "outputs": [
    {
     "data": {
      "text/plain": [
       "Achternaam        Voornaam          \n",
       " Hurgronje        Cornelia Machalina      126.0\n",
       " Sage             Wed. Benjamin le        402.0\n",
       " Tongeren         Willem Hendrik van     1831.0\n",
       "Aantrekker        Daniel den             1058.0\n",
       "Aartsen           Jacobus               10864.0\n",
       "Abrahams          David                    50.0\n",
       "                  Marcus                  113.0\n",
       "Abrahams en Zoon  Levij                   196.0\n",
       "Ackermans         Pieter                51998.0\n",
       "Ackervelt         Charles               13861.0\n",
       "Adriaansen        Adriaan                 418.0\n",
       "                  Pieter                  589.0\n",
       "Akeren            Adriaan van             655.0\n",
       "                  Adriaan van            3846.0\n",
       "AlSagoin          Martijn                 274.0\n",
       "Alexander         Isaak                    40.0\n",
       "Alffes            Joost Joan             5343.0\n",
       "Alix              Jurriaan                241.0\n",
       "Allen             Edward                   61.0\n",
       "Allewaart         Hubertus                  2.0\n",
       "Alves             Joost Jan               123.0\n",
       "                  Joost Jan               119.0\n",
       "Amorij            David                  1176.0\n",
       "Angot             Claude                 1478.0\n",
       "Anker             Abraham in t'           115.0\n",
       "Arends            Marinus                  32.0\n",
       "Assen             Joost Joan              214.0\n",
       "Asset             Gabriel                  96.0\n",
       "Aubrij            Paulus                  165.0\n",
       "                  Pieter                  641.0\n",
       "                                         ...   \n",
       "Windt             Jacobus de             1294.0\n",
       "Winkelman         Pieter                  326.0\n",
       "Wint              Adriaan de               80.0\n",
       "Wissel            Jacobus Van der        3503.0\n",
       "Withsfeldt        John                   1029.0\n",
       "Witt              Adriaan de             1267.0\n",
       "Witte             Jacobus de              156.0\n",
       "Wollaart          Christiaan             1465.0\n",
       "Wombergen         Anthonij van           3524.0\n",
       "                  Anthonij van             98.0\n",
       "Wombergen         Anthonij van           4293.0\n",
       "                  Anthonij van            436.0\n",
       "Wondergem         Willem                   34.0\n",
       "Woordt            Jan Van der           13041.0\n",
       "Woutersen         Jan                     125.0\n",
       "                  Wouter                  123.0\n",
       "Yperen            Nicolaas van             64.0\n",
       "Ysembaart         Abraham                 299.0\n",
       "Z                 Jacobus                 148.0\n",
       "Zachariassen      Cornelis                195.0\n",
       "Zeun              Nicolaas van            350.0\n",
       "Zierikzee         Louisa                 2383.0\n",
       "                  louisa                  160.0\n",
       "Zitter            Jan de                 1183.0\n",
       "Zitter en Zoonen  Jan de                 7737.0\n",
       "kakelaar          Henrikus               1911.0\n",
       "parker            Isaak                   678.0\n",
       "swart             Jan                     615.0\n",
       "van Huijen        Joost van               857.0\n",
       "verheeke          Abraham                   7.0\n",
       "Name: aantal (ponden/ guldens), Length: 1153, dtype: float64"
      ]
     },
     "execution_count": 12,
     "metadata": {},
     "output_type": "execute_result"
    }
   ],
   "source": [
    "transactions_by_buyer['aantal (ponden/ guldens)'].sum()"
   ]
  },
  {
   "cell_type": "code",
   "execution_count": null,
   "metadata": {},
   "outputs": [],
   "source": []
  }
 ],
 "metadata": {
  "kernelspec": {
   "display_name": "Python 3",
   "language": "python",
   "name": "python3"
  },
  "language_info": {
   "codemirror_mode": {
    "name": "ipython",
    "version": 3
   },
   "file_extension": ".py",
   "mimetype": "text/x-python",
   "name": "python",
   "nbconvert_exporter": "python",
   "pygments_lexer": "ipython3",
   "version": "3.7.2"
  }
 },
 "nbformat": 4,
 "nbformat_minor": 2
}
