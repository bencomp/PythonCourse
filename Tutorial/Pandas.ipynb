{
 "cells": [
  {
   "cell_type": "markdown",
   "metadata": {},
   "source": [
    "< [NTLK](https://tdm.universiteitleiden.nl/Python/NLTK.html) | [Table of contents](https://tdm.universiteitleiden.nl/Python) | [Data visualisation with matplotlib](https://tdm.universiteitleiden.nl/Python/Visualisation.html) >"
   ]
  },
  {
   "cell_type": "markdown",
   "metadata": {},
   "source": [
    "# Data analyses with pandas\n",
    "\n",
    "'Pandas' is a Python library which was developed for the manipulation and the analysis of data sets. It is available for Python version 2.7 and higher. The name of the library loosely stands for “Python Data Analysis Library”. Pandas contains methods that enable programmers to read data from a wide range of file formats, including CSV, TSV, Excel spreadsheets and MySQL databases, and it offers numerous statistical methods that can be used to analyse these data.\n",
    "\n",
    "If pandas has been installed successfully on your computer, this library can be imported into your program using the 'import' keyword.\n",
    "\n"
   ]
  },
  {
   "cell_type": "code",
   "execution_count": null,
   "metadata": {},
   "outputs": [],
   "source": [
    "import pandas as pd"
   ]
  },
  {
   "cell_type": "markdown",
   "metadata": {},
   "source": [
    "\n",
    "As can be seen, this import statement also assigns an alias, namely 'pd'. This is a short code for the library. After this point, the library can be referred to using this brief code. Without this alias, the full name ‘pandas’ would have to be typed in each time a method from this library is needed.\n",
    "\n",
    "\n",
    "## Reading a CSV file\n",
    "\n",
    "If your data set is stored in the csv format, it can be accessed using the 'read_csv()' function.\n"
   ]
  },
  {
   "cell_type": "code",
   "execution_count": null,
   "metadata": {},
   "outputs": [],
   "source": [
    "df = pd.read_csv( 'data.csv' )"
   ]
  },
  {
   "cell_type": "markdown",
   "metadata": {},
   "source": [
    "The data that are read from the csv file are represented as a specific data structure which is known within the context of pandas as a data frame. A data frame can be compared to a regular table in a database. It consists of rows and columns. In the code above, the data frame is saved using the name 'df'.\n",
    "\n",
    "As is indicated by the name of the file format, CSV files conventionally separate the individual values in the data set using commas. In some cases however, such files may also work with other types of separators, such as hyphens or semi-colons. In the read_csv() method, it is also possible to specify the separator, i.e. the character that must be used to separate the row into individual values."
   ]
  },
  {
   "cell_type": "code",
   "execution_count": null,
   "metadata": {},
   "outputs": [],
   "source": [
    "df = pd.read_csv( 'data.csv' , sep = ';' )"
   ]
  },
  {
   "cell_type": "markdown",
   "metadata": {},
   "source": [
    "If the data set includes floating point numbers, it can also be useful to indicate the character to be used as a decimal point, via the 'decimal' parameter. Floating point numbers are typically represented using either the period or the comma. "
   ]
  },
  {
   "cell_type": "code",
   "execution_count": null,
   "metadata": {},
   "outputs": [],
   "source": [
    "df = pd.read_csv( 'data.csv' , decimal = '.' )"
   ]
  },
  {
   "cell_type": "markdown",
   "metadata": {},
   "source": [
    "## Reading an Excel spreadsheet\n",
    "\n",
    "The Pandas library also offers a method named 'read_excel()'. Yo can use this function to process data stored in an Excel spreadsheet. The method needs to be used with two parameters. The first parameter is simply the name of the Excel file that you want to work with. Secondly, as a value to a parameter named \"sheetname\", you need to provide the name of the sheet that you want to read. Similarly to the way in which 'read_csv()' processes data, 'read_excel()' converts the data on the sheet that you mention to a data frame.\n"
   ]
  },
  {
   "cell_type": "code",
   "execution_count": null,
   "metadata": {},
   "outputs": [],
   "source": [
    "import pandas as pd\n",
    "\n",
    "df = pd.read_excel( 'Data.xlsx' , sheet_name = \"Sheet1\")\n"
   ]
  },
  {
   "cell_type": "markdown",
   "metadata": {},
   "source": [
    "## Basic analyses\n",
    "\n",
    "Once a data frame has been created, the data set can be examined using a number of methods that are available within the Pandas library. These methods will be explained using the simple data set shown below:\n",
    "\n",
    "```\n",
    "A,B,C,D\n",
    "12,5,6,12\n",
    "14,11,17,20\n",
    "15,6,8,19\n",
    "8,3,21,5\n",
    "10,9,14,7\n",
    "```\n",
    "\n",
    "\n",
    "\n",
    "\n",
    "The 'head()' method, firstly, prints the first few rows of the data frame. If no integer is provided within the parentheses, Pandas will show five rows by default. The number of rows to be shown can be specified, however, within the parentheses."
   ]
  },
  {
   "cell_type": "code",
   "execution_count": 1,
   "metadata": {},
   "outputs": [
    {
     "name": "stdout",
     "output_type": "stream",
     "text": [
      "    A   B   C   D\n",
      "0  12   5   6  12\n",
      "1  14  11  17  20\n"
     ]
    }
   ],
   "source": [
    "import pandas as pd\n",
    "\n",
    "df = pd.read_csv( 'data.csv' )\n",
    "\n",
    "print( df.head(2) )  \n",
    "# This will print the first two records of the data frame."
   ]
  },
  {
   "cell_type": "markdown",
   "metadata": {},
   "source": [
    "The 'shape' property returns information about the number of rows and columns. Note that 'shape' needs to be used without parentheses.\n"
   ]
  },
  {
   "cell_type": "code",
   "execution_count": 2,
   "metadata": {},
   "outputs": [
    {
     "name": "stdout",
     "output_type": "stream",
     "text": [
      "(5, 4)\n"
     ]
    }
   ],
   "source": [
    "print( df.shape )"
   ]
  },
  {
   "cell_type": "markdown",
   "metadata": {},
   "source": [
    "These values that can be seen on the very first line of the sample csv file that was discussed above function as a header. After the creation of the data frame, using 'read_csv()', the strings that occur in this header, and which are delimited by commas, become available as column names. \n",
    "\n",
    "You can request an overview of all the column names using the 'columns' property. For the sake of readability, the Index object that generated by this property is converted to a list.   "
   ]
  },
  {
   "cell_type": "code",
   "execution_count": 3,
   "metadata": {},
   "outputs": [
    {
     "name": "stdout",
     "output_type": "stream",
     "text": [
      "Column headings:\n",
      "['A', 'B', 'C', 'D']\n"
     ]
    }
   ],
   "source": [
    "print(\"Column headings:\")\n",
    "print( list( df.columns) )"
   ]
  },
  {
   "cell_type": "markdown",
   "metadata": {},
   "source": [
    "## Series\n",
    "\n",
    "The values in a column of a data frame can be accessed separately using the name of the column. This assumes, obviously, that such column names have been defined. In order to obtain the data in a specific column, the name of the column must be appended to the name of the data frame using square brackets, as follows.\n"
   ]
  },
  {
   "cell_type": "code",
   "execution_count": 4,
   "metadata": {},
   "outputs": [
    {
     "name": "stdout",
     "output_type": "stream",
     "text": [
      "0    12\n",
      "1    14\n",
      "2    15\n",
      "3     8\n",
      "4    10\n",
      "Name: A, dtype: int64\n"
     ]
    }
   ],
   "source": [
    "print( df['A']  )"
   ]
  },
  {
   "cell_type": "markdown",
   "metadata": {},
   "source": [
    "The code above will print all the values in the column named 'A'. Within the context of Pandas, this list of values is referred to as a Series. This data structure is very similar to a regular Python list. An important difference between lists and Series is that, in the latter data structure, the individual values actually consist of two values: (1) the actual items and (2) the indices of these items. "
   ]
  },
  {
   "cell_type": "markdown",
   "metadata": {},
   "source": [
    "## Statistical functions\n",
    "\n",
    "Within Pandas, you can methods such as 'max()', 'min()', 'mean()' to receive basic statistical information about numerical values in your data set. "
   ]
  },
  {
   "cell_type": "code",
   "execution_count": 5,
   "metadata": {},
   "outputs": [
    {
     "name": "stdout",
     "output_type": "stream",
     "text": [
      "15\n",
      "3\n",
      "13.2\n",
      "63\n"
     ]
    }
   ],
   "source": [
    "print( df['A'].max() )\n",
    "## max() identifies the highest number within the column that is mentioned within the square brackets.\n",
    "\n",
    "print( df['B'].min() )\n",
    "# min() identifies the lowest number\n",
    "\n",
    "print( df['C'].mean() )\n",
    "# mean() calculates the mean of all the values in a specific column\n",
    "\n",
    "print( df['D'].sum() )\n",
    "## sum() performs an addition of all the numbers in a column"
   ]
  },
  {
   "cell_type": "markdown",
   "metadata": {},
   "source": [
    "If you would like to perform statistical analyses on all the columns of the dataframe, you can also append the name of the needed method directly to the data frame variable, without specifying a column. "
   ]
  },
  {
   "cell_type": "code",
   "execution_count": 6,
   "metadata": {},
   "outputs": [
    {
     "name": "stdout",
     "output_type": "stream",
     "text": [
      "A    59\n",
      "B    34\n",
      "C    66\n",
      "D    63\n",
      "dtype: int64\n"
     ]
    }
   ],
   "source": [
    "print( df.sum() )"
   ]
  },
  {
   "cell_type": "markdown",
   "metadata": {},
   "source": [
    "## Navigating through a data frame\n",
    "\n",
    "To view all the columns in a data frame, you can make use of the iterrows() method. This method processes the data frame row by row, and returns a new Series for each row it finds in the data frame. In the code below, the individual Series that represent all the columns on a certain row is given the name ‘column’. When the variable name ‘column’ is used in combination with a column name, this will represent the data in that particular column. The method iterrows() can also return the index of each row, but that index is not actually used in the fragment that follows."
   ]
  },
  {
   "cell_type": "code",
   "execution_count": 7,
   "metadata": {},
   "outputs": [
    {
     "name": "stdout",
     "output_type": "stream",
     "text": [
      "5\n",
      "11\n",
      "6\n",
      "3\n",
      "9\n"
     ]
    }
   ],
   "source": [
    "import pandas as pd\n",
    "\n",
    "df = pd.read_csv( 'data.csv' )\n",
    "\n",
    "for index , column in df.iterrows():\n",
    "    print( column['B'] )"
   ]
  },
  {
   "cell_type": "markdown",
   "metadata": {},
   "source": [
    "## Grouping items\n",
    "\n",
    "Pandas also offers a method named 'groupby()' which can be very useful when your data set contains labels or categories for specific records. Using 'groupby()', the records which have been assigned the same category can all be placed in a single group. Subsequently, it becomes possible to perform calcutions for each group that has been created. This process is demonstrated below.  \n",
    "\n",
    "The following line firstly assigns categories to the five records in the data set. It does this by adding a columns to the existing data frame named 'df'. The number of items in the list that is assigned to the new column, named 'class', needs to be identical to the number of rows in the data set."
   ]
  },
  {
   "cell_type": "code",
   "execution_count": 8,
   "metadata": {},
   "outputs": [],
   "source": [
    "df['class'] = [ 'Category1' , 'Category1' , 'Category2' , 'Category2' , 'Category2'  ]"
   ]
  },
  {
   "cell_type": "markdown",
   "metadata": {},
   "source": [
    "After these labels have been assigned, the name of the column containing these labels can be used as a parameter for 'groupby()'. The method then creates the various groups, based on the values it find in the column that is mentioned. Once the groups have been established, you can apply statistical functions such as mean(), sum() or max() to each of these. "
   ]
  },
  {
   "cell_type": "code",
   "execution_count": 9,
   "metadata": {},
   "outputs": [
    {
     "data": {
      "text/html": [
       "<div>\n",
       "<style scoped>\n",
       "    .dataframe tbody tr th:only-of-type {\n",
       "        vertical-align: middle;\n",
       "    }\n",
       "\n",
       "    .dataframe tbody tr th {\n",
       "        vertical-align: top;\n",
       "    }\n",
       "\n",
       "    .dataframe thead th {\n",
       "        text-align: right;\n",
       "    }\n",
       "</style>\n",
       "<table border=\"1\" class=\"dataframe\">\n",
       "  <thead>\n",
       "    <tr style=\"text-align: right;\">\n",
       "      <th></th>\n",
       "      <th>A</th>\n",
       "      <th>B</th>\n",
       "      <th>C</th>\n",
       "      <th>D</th>\n",
       "    </tr>\n",
       "    <tr>\n",
       "      <th>class</th>\n",
       "      <th></th>\n",
       "      <th></th>\n",
       "      <th></th>\n",
       "      <th></th>\n",
       "    </tr>\n",
       "  </thead>\n",
       "  <tbody>\n",
       "    <tr>\n",
       "      <th>Category1</th>\n",
       "      <td>13.0</td>\n",
       "      <td>8.0</td>\n",
       "      <td>11.500000</td>\n",
       "      <td>16.000000</td>\n",
       "    </tr>\n",
       "    <tr>\n",
       "      <th>Category2</th>\n",
       "      <td>11.0</td>\n",
       "      <td>6.0</td>\n",
       "      <td>14.333333</td>\n",
       "      <td>10.333333</td>\n",
       "    </tr>\n",
       "  </tbody>\n",
       "</table>\n",
       "</div>"
      ],
      "text/plain": [
       "              A    B          C          D\n",
       "class                                     \n",
       "Category1  13.0  8.0  11.500000  16.000000\n",
       "Category2  11.0  6.0  14.333333  10.333333"
      ]
     },
     "execution_count": 9,
     "metadata": {},
     "output_type": "execute_result"
    }
   ],
   "source": [
    "df.groupby('class').mean()"
   ]
  },
  {
   "cell_type": "markdown",
   "metadata": {},
   "source": [
    "< [NTLK](https://tdm.universiteitleiden.nl/Python/NLTK.html) | [Table of contents](https://tdm.universiteitleiden.nl/Python) | [Data visualisation with matplotlib](https://tdm.universiteitleiden.nl/Python/Visualisation.html) >"
   ]
  }
 ],
 "metadata": {
  "kernelspec": {
   "display_name": "Python 3",
   "language": "python",
   "name": "python3"
  },
  "language_info": {
   "codemirror_mode": {
    "name": "ipython",
    "version": 3
   },
   "file_extension": ".py",
   "mimetype": "text/x-python",
   "name": "python",
   "nbconvert_exporter": "python",
   "pygments_lexer": "ipython3",
   "version": "3.7.2"
  }
 },
 "nbformat": 4,
 "nbformat_minor": 2
}
