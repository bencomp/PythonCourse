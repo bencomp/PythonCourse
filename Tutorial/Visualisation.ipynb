{
 "cells": [
  {
   "cell_type": "markdown",
   "metadata": {},
   "source": [
    "< [Data analysis with Pandas](https://tdm.universiteitleiden.nl/Python/Pandas.html) | [Table of contents](https://tdm.universiteitleiden.nl/Python) >"
   ]
  },
  {
   "cell_type": "markdown",
   "metadata": {},
   "source": [
    "# Visualisation with Matplotlib\n",
    "\n",
    "\n",
    "Research based on Text and Data Mining typically entails an approach in which linear texts are converted into quantitative data. The numbers that are generated out of these texts are often represented via graphs and diagrams. In contrast to numbers displayed in a tabular form, data visualisations quickly enable researchers to explore patterns and trends or notable exceptions to the general trends. During the last number of years, a large number of visualisation libraries have been developed for the Python language. One of the most widely used libraries is matplotlib. This tutorial concentrates on three types of visualisations that you can create using matplot: bar charts, line charts and scatter plots.\n",
    "\n",
    "## A bar chart\n",
    "\n",
    "To make use of the matplotlib library, you firstly need to import it. Many of the functions that are needed to create data visualisations are actually in matplotlib’s pyplot module, which can be imported as follows:"
   ]
  },
  {
   "cell_type": "code",
   "execution_count": null,
   "metadata": {},
   "outputs": [],
   "source": [
    "import matplotlib.pyplot as plt"
   ]
  },
  {
   "cell_type": "markdown",
   "metadata": {},
   "source": [
    "In the line above, the pyplot module is also assigned an alias, ‘plt’. The advantage of this alias is that you can refer to the module using the brief code which is mentioned after ‘as’. When you assign an alias, you don’t longer need to type in the full name of the module. \n",
    "Listing 4.1 demonstrates how you can create a basic bar chart in matplotlib."
   ]
  },
  {
   "cell_type": "code",
   "execution_count": null,
   "metadata": {},
   "outputs": [],
   "source": [
    "import matplotlib.pyplot as plt\n",
    "\n",
    "freq = dict()\n",
    "\n",
    "freq['the'] = 2254\n",
    "freq['of'] = 1365\n",
    "freq['a'] = 1123\n",
    "freq['i'] = 1094\n",
    "freq['and'] = 930\n",
    "freq['to'] = 870\n",
    "freq['was'] = 668\n",
    "freq['in'] = 602\n",
    "\n",
    "fig = plt.figure()\n",
    "ax = plt.axes()\n",
    "\n",
    "bar_width = 0.45\n",
    "opacity = 0.8\n",
    "\n",
    "ax.bar( freq.keys() , freq.values() , width = bar_width , alpha = opacity , color = '#03017a')\n",
    "ax.set_xlabel('Words')\n",
    "ax.set_ylabel('Frequencies')\n",
    "ax.set_title( 'A Room with a View')\n",
    "\n",
    "plt.show()"
   ]
  },
  {
   "cell_type": "markdown",
   "metadata": {},
   "source": [
    "Lines 3 to 12 firstly define a dictionary named freq. This dictionary is used to record data about word frequencies. The words are the keys or indices of the dictionary, and the frequencies are stored as the associated values. \n",
    "While not strictly necessary, it is convenient to add a figure and a set of axes to a plot. They can be added using the code that you see on lines 14 and 15 in listing 4.1. The aliases that are used, fig and ax, are also conventional. A figure can be thought of as an empty canvas on which you can place your diagrams. Axes, secondly, is a class which consists of a combination of an X-axis and a Y-axis. These axes also includes the ticks and the labels for these ticks. All the data that you need for your visualization will be placed on these axes. \n",
    "Creating the bar chart is fairly straightforward. You can simply make use of the bar() method of Axes. At a minimal level, the method demands two parameters: the values that need to be shown on the X-axis, and the values that need to be shown on the Y-axis. In the case of bar charts, the former list needs to contain categorical values. The latter variable ought to be numerical and continuous. In the code above, the values that will be visualised are generated using the methods the methods keys() and values(), which are available by default for all Python dictionaries. The keys() method generates the words that are connected to the ticks on the X-axis. The values created using values() determine the heights of the various bars. \n",
    "The appearance of the bar chart can be adjusted via a number of additional parameters. You can specify the width, the opacity and the color of the bars, for instance. As values for ‘color’, you can provide hexadecimal colour codes. \n",
    "It is advisable, furthermore, to annotate and to describe your data visualisations as much as possible. You can add a label for the X-axis and the Y-axis using the methods set_xlabel() and set_ylabel(). The method set_title() may be used to add a general title to the plot. The string that is supplied within parentheses will be shown above the bar chart. \n",
    "Importantly, you need to conclude the code that creates the data visualisation with the command plt.show(). Without this command, the visualisation will not be created. As you will see when you run the code, this command opens an application which renders the bar chart. The command should be used only once.\n",
    "\n",
    "## A line chart \n",
    "\n",
    "Line charts can be used to visualise the values collected for two numerical and continuous variables. Listing 4.2. offers a demonstration of how you can make such a line chart. It visualises the data in a dictionary named freq, as in listing 4.1. In this case, however, the keys and the values of the dictionary are both numeric. A dictionary of this kind can be used in applications created to produce dispersion graphs for individual texts. \n",
    "To create a line chart, you need to make use of the plot() method of the pyplot module. "
   ]
  },
  {
   "cell_type": "code",
   "execution_count": null,
   "metadata": {},
   "outputs": [],
   "source": [
    "import matplotlib.pyplot as plt\n",
    "\n",
    "plt.style.use('seaborn-whitegrid')\n",
    "\n",
    "freq = dict()\n",
    "\n",
    "freq[100] = 45\n",
    "freq[200] = 60\n",
    "freq[300] = 70\n",
    "freq[400] = 56\n",
    "freq[500] = 49\n",
    "freq[600] = 44\n",
    "freq[700] = 42\n",
    "freq[800] = 38\n",
    "\n",
    "fig = plt.figure()\n",
    "ax = plt.axes()\n",
    "\n",
    "ax.plot( freq.keys() , freq.values() , color = '#930d08' , linestyle = 'dashdot')\n",
    "\n",
    "ax.set_xlabel('Section')\n",
    "ax.set_ylabel('Frequency')\n",
    "\n",
    "ax.set_ylim( 0 , max( freq.values() ) + 10 )\n",
    "ax.set_xlim( 0, 900 )\n",
    "\n",
    "ax.set_title( 'A Room with a View')\n",
    "\n",
    "plt.savefig('linechart.png')"
   ]
  },
  {
   "cell_type": "markdown",
   "metadata": {},
   "source": [
    "The code above also demonstrates a number of additional possibilities of matplotlib. Line 3, for instance, changes the style of the graph. In themselves, the matplotlib graphics have a fairly plain and simple appearance. The style of the graphs can be modified by applying stylesheets. In listing 4.2, the stylesheet named 'seaborn-whitegrid' is invoked. The box below lists a number of other options. \n"
   ]
  },
  {
   "cell_type": "code",
   "execution_count": null,
   "metadata": {},
   "outputs": [],
   "source": [
    "plt.style.use('fivethirtyeight')\n",
    "plt.style.use('seaborn-pastel')\n",
    "plt.style.use('seaborn-whitegrid')\n",
    "plt.style.use('ggplot')\n",
    "plt.style.use('grayscale')\n",
    "\n",
    "## To see all the stylesheets that are \n",
    "## available, use the following:\n",
    "\n",
    "print( plt.style.available )"
   ]
  },
  {
   "cell_type": "markdown",
   "metadata": {},
   "source": [
    "Like bar(), the plot() method expects two parameters: the values for the X-axis, and the values for the Y-axis. It is also possible to specify the line style for the line chart. You can choose one of the options below:"
   ]
  },
  {
   "cell_type": "code",
   "execution_count": null,
   "metadata": {},
   "outputs": [],
   "source": [
    "linestyle='solid'\n",
    "linestyle='dashed'\n",
    "linestyle='dashdot'\n",
    "linestyle='dotted'"
   ]
  },
  {
   "cell_type": "markdown",
   "metadata": {},
   "source": [
    "Matplotlib normally infers the limits of the X-axis and the Y-axis from your data. In some cases, however, you may want to adjust the limits of the axes. As is illustrated on lines 24 and 25, you can do this via set_xlim() and set_ylim(). These two methods take two parameters: the lowest value and the highest value. The two numbers that you mention determine the range of values that you shall see on the X-axis and the Y-axis.\n",
    "Next to opening the graph in a viewer on your screen, using show(), it is also possible to instruct Python to create an image file on your computer, via the savefig() method. As the first parameter to this function, you must provide a filename. The filename must include an extension, such as ‘jpeg’, ‘tiff’, ‘png’ or ‘pdf’. When the code is executed, matplotlib will generate a file, and it will infer the file format from the extension that you mention. The methods savefig() and show() are mutually exclusive. When you use one of these two methods, you cannot use the other method. \n",
    "\n",
    "## A scatter plot\n",
    "\n",
    "A scatter plot is a data visualisation that makes use of dots to represent the values of two numeric variables. The code below can be used to compare six novels on the basis of their type-toke ratios and the average number of words per sentence. In listing 4.3, the former values are stored in a list named ttRatio and the latter values can be accessed via the list named sentLen. The code places the value in ttRatio on the X-axis, and the values in sentlen on the Y-axis. The aim is of the visualisation is to explore differences between genres. In the example below, the first three texts are Gothic novels, and the last three texts are History novels. The colours of the dots indicate the genres of the novels."
   ]
  },
  {
   "cell_type": "code",
   "execution_count": null,
   "metadata": {},
   "outputs": [],
   "source": [
    "import matplotlib.pyplot as plt\n",
    "\n",
    "plt.style.use('seaborn-whitegrid')\n",
    "\n",
    "ttRatio = [ 0.24 , 0.29 , 0.31 , 0.19 , 0.22 , 0.24 ]\n",
    "sentLen = [ 18.5 , 21.7 , 32.6 , 26.9 , 21.3 , 36.8 ]\n",
    "\n",
    "colors = ( '#a0061a' , '#a0061a' ,'#a0061a' , '#1607ed' , '#1607ed', '#1607ed'  )\n",
    "\n",
    "fig = plt.figure()\n",
    "ax = plt.axes()\n",
    "\n",
    "ax.scatter( ttRatio , sentLen , alpha=0.8, c=colors, edgecolors='none', s=30, label=None )\n",
    "\n",
    "ax.set_xlabel('Type-token ratio')\n",
    "ax.set_ylabel('Average number of words per sentence')\n",
    "\n",
    "legendDict = {\"#a0061a\":'Gothic novel' , \"#1607ed\":'History novel'}\n",
    "\n",
    "\n",
    "plt.title('Matplot scatter plot')\n",
    "\n",
    "for colour in legendDict:\n",
    "    plt.scatter( [], [], c = colour , label = \n",
    "       legendDict[colour] )\n",
    "\n",
    "plt.legend(loc=2 , frameon=True )\n",
    "\n",
    "ax.set_title( 'Analysis of Gothic of History novels' )\n",
    "\n",
    "plt.savefig('scatterplot.png')"
   ]
  },
  {
   "cell_type": "markdown",
   "metadata": {},
   "source": [
    "To create a scatterplot, you need to use the method scatter() in the Axes Class. Like plot() and bar(), the scatter() method minimally demands two parameters: the values to be shown on the X-axis and the values that need to be plotted on the Y-axis.\n",
    "\n",
    "The colours of the dots in the scatter plot are determined by a parameter called ‘c’. The value of this parameter must be a list. As you can see, the value of the parameter c in listing 4.3 is a list named colors. This list is defined on line 8. It is a list which has exactly the same number of items as the lists which contain the values to be shown in the scatter plot. Basically, the list assigns a colour to each item in these lists.\n",
    "Listing 4.3 also creates a legend to explain the meaning of the colours that are used in the diagram. The legend is created in three steps. Line 19, firstly, defines a dictionary in which colour codes are connected to the names of the genres under investigation (i.e. ‘Gothic novel’ and ‘History novel’). \n",
    "\n",
    "Lines 24 and 25 associates the colour codes with the scatter plot. Line 24 makes use of the scatter() plot which you have seen before, but, in this case, it is used with empty lists. This step is necessary to add labels to the colours that are used in the diagram. The legend is added, finally, using the legend() method, as illustated on line 28. This method can be used in combination with the loc() method, which specifies the location of the legend, and the frameon() method. When you use frameon = False, the background of the legend will become transparent. "
   ]
  },
  {
   "cell_type": "markdown",
   "metadata": {},
   "source": [
    "< [Data analysis with Pandas](https://tdm.universiteitleiden.nl/Python/Pandas.html) | [Table of contents](https://tdm.universiteitleiden.nl/Python) >"
   ]
  }
 ],
 "metadata": {
  "kernelspec": {
   "display_name": "Python 3",
   "language": "python",
   "name": "python3"
  },
  "language_info": {
   "codemirror_mode": {
    "name": "ipython",
    "version": 3
   },
   "file_extension": ".py",
   "mimetype": "text/x-python",
   "name": "python",
   "nbconvert_exporter": "python",
   "pygments_lexer": "ipython3",
   "version": "3.7.2"
  }
 },
 "nbformat": 4,
 "nbformat_minor": 2
}
