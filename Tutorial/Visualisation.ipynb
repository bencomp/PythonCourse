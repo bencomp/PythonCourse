{
 "cells": [
  {
   "cell_type": "markdown",
   "metadata": {},
   "source": [
    "< [Data analysis with Pandas](https://tdm.universiteitleiden.nl/Python/Pandas.html) | [Table of contents](https://tdm.universiteitleiden.nl/Python) >"
   ]
  },
  {
   "cell_type": "markdown",
   "metadata": {},
   "source": [
    "# Visualisation with Matplotlib\n",
    "\n",
    "Data visualisations such as graphs and diagrams often make it easier for researchers to explore patterns and trends within large collections of data, or to identify notable exceptions to the trends that can be observed. \n",
    "\n",
    "During the last number of years, a large number of visualisation libraries have been developed for the Python language. One of the most widely used libraries is 'matplotlib'. This tutorial concentrates on three types of visualisations that you can create using matplot: bar charts, line charts and scatter plots.\n",
    "\n",
    "## The data to be visualised\n",
    "\n",
    "\n",
    "Data visualisations are obviously based on data. The data to be used in the remainder of this tutorial are created below."
   ]
  },
  {
   "cell_type": "code",
   "execution_count": null,
   "metadata": {},
   "outputs": [],
   "source": [
    "import pandas as pd\n",
    "\n",
    "\n",
    "data = [ [12,5,6,12] , \n",
    "[14,11,17,20] , \n",
    "[15,6,8,19] , \n",
    "[8,3,21,5] , \n",
    "[10,9,14,7] , \n",
    "[14,7,8,9] , \n",
    "[6,9,10,14] , \n",
    "[5,8,9,12] , \n",
    "[19,4,6,14] , \n",
    "[11,12,12,15] ] \n",
    "\n",
    "df = pd.DataFrame(data, columns = ['A', 'B' , 'C' , 'D'] ) \n",
    "\n",
    "df['class'] = [ 'Category1' , 'Category1' , 'Category1' , 'Category2' , 'Category2' ,  'Category3' , 'Category3' , 'Category4' , 'Category4' , 'Category4'  ]\n",
    "\n",
    "table = df.groupby( 'class' ).mean()\n",
    "x1 = list( table['A'].keys() ) \n",
    "y1 = list( table['A'].values ) \n",
    "\n",
    "\n",
    "df['year'] = ( 2000 , 2001, 2002, 2003, 2004, 2005, 2006, 2007, 2008, 2009 )\n",
    "\n",
    "x2 = list( df['year'] )\n",
    "y2 = list( df['D'] )\n",
    "\n",
    "\n",
    "x3 = list( df['C'] )\n",
    "y3 = list( df['D'] )"
   ]
  },
  {
   "cell_type": "markdown",
   "metadata": {},
   "source": [
    "\n",
    "## A bar chart\n",
    "\n",
    "To create a plot using the matplotlib library, you firstly need to import matplotlib's ```pyplot``` module. To reduce the amount of typing, the name of the module can be imported under a shorter alias. The code below uses the alias ```plt```."
   ]
  },
  {
   "cell_type": "code",
   "execution_count": null,
   "metadata": {},
   "outputs": [],
   "source": [
    "import matplotlib.pyplot as plt\n"
   ]
  },
  {
   "cell_type": "markdown",
   "metadata": {},
   "source": [
    "The ```pyplot``` module is in fact a collection of functions that can be used to change the nature and the appearance of a plot. It is convenient, as a first step, to add a figure and a set of axes to a plot. They can be added as follows."
   ]
  },
  {
   "cell_type": "code",
   "execution_count": null,
   "metadata": {},
   "outputs": [],
   "source": [
    "fig = plt.figure()\n",
    "ax = plt.axes()"
   ]
  },
  {
   "cell_type": "markdown",
   "metadata": {},
   "source": [
    "A figure can be thought of as an empty canvas on which you can place your diagrams. Axes, secondly, is a class which consists of a combination of an X-axis and a Y-axis. These axes also includes the ticks and the labels for these ticks. All the data that you need for your visualization will be placed on these axes. \n",
    "\n",
    "As is shown below, the size of the plot can be changes by working with the figsize parameter in ```figure()```. This parameter demands two numbers, given in parentheses. These two numbers specify the width and the height of the figure, respectively. \n",
    " \n",
    "Creating a bar chart is fairly straightforward. To do this, you can make use of the ```bar()``` method of Axes. At a minimum, the method demands two parameters: the values that need to be shown on the X-axis, and the values that need to be shown on the Y-axis. These values can be given in the form of lists. The former list contains the words that are connected to the ticks on the X-axis, and the values in the latter list determine the heights of the various bars. \n",
    "\n",
    "Importantly, you need to conclude the code that creates the data visualisation with the command plt.show(). Without this command, the visualisation will not be created. The command should be used only once.\n",
    "\n",
    "N.B. When you add the line ```%matplotlib inline``` to a code block in a Jupyter Notebook, the graph that is created is also shown within the notebook."
   ]
  },
  {
   "cell_type": "code",
   "execution_count": null,
   "metadata": {},
   "outputs": [],
   "source": [
    "%matplotlib inline\n",
    "\n",
    "import matplotlib.pyplot as plt\n",
    "import pandas as pd\n",
    "\n",
    "\n",
    "fig = plt.figure( figsize=(12,6) )\n",
    "ax = plt.axes()\n",
    "\n",
    "ax.bar( x1 , y1 )\n",
    "\n",
    "plt.show()\n"
   ]
  },
  {
   "cell_type": "markdown",
   "metadata": {},
   "source": [
    "The appearance of the bar chart can be adjusted via a number of parameters in the ```bar()``` function of Axes. You can specify the ```width``` and the ```color``` of the bars, for instance. As values for ‘color’, you can provide hexadecimal colour codes. The opacity of the bars can be manipulated using the ```alpha``` parameter.\n",
    "\n",
    "If the labels on one of the axes overlap, as in the image above, it may be useful to change the orientation of these labels by making use of ```xticks()``` method in pyplot. The parameter in this method determines the rotation angle. \n",
    "\n",
    "It is advisable, furthermore, to annotate and to describe your data visualisations as much as possible. You can add a label for the X-axis and the Y-axis using the methods ```set_xlabel()``` and ```set_ylabel()```. The method ```set_title()``` may be used to add a general title to the plot. The string that is supplied within parentheses will be shown above the bar chart. These three methods can be used with a parameter named ```fontsize```.\n"
   ]
  },
  {
   "cell_type": "code",
   "execution_count": null,
   "metadata": {},
   "outputs": [],
   "source": [
    "%matplotlib inline\n",
    "\n",
    "import matplotlib.pyplot as plt\n",
    "import pandas as pd\n",
    "\n",
    "\n",
    "fig = plt.figure( figsize=( 7 ,6 ) )\n",
    "ax = plt.axes()\n",
    "\n",
    "\n",
    "bar_width = 0.45\n",
    "opacity = 0.8\n",
    "\n",
    "ax.bar( x1 , y1 , width = bar_width, alpha = opacity , color = '#781926')\n",
    "\n",
    "plt.xticks(rotation= 90)\n",
    "\n",
    "ax.set_xlabel('Categories' , fontsize= 12)\n",
    "ax.set_ylabel('Mean values' , fontsize = 12 )\n",
    "ax.set_title( 'Sample data' , fontsize=20 )\n",
    "\n",
    "\n",
    "plt.show()"
   ]
  },
  {
   "cell_type": "markdown",
   "metadata": {},
   "source": [
    "\n",
    "## A line chart \n",
    "\n",
    "To create a line chart, you need to make use of the plot() method of the pyplot module. "
   ]
  },
  {
   "cell_type": "code",
   "execution_count": null,
   "metadata": {},
   "outputs": [],
   "source": [
    "%matplotlib inline\n",
    "\n",
    "import matplotlib.pyplot as plt\n",
    "\n",
    "\n",
    "plt.style.use('seaborn-pastel')\n",
    "\n",
    "fig = plt.figure( figsize = ( 12, 4))\n",
    "ax = plt.axes()\n",
    "\n",
    "ax.plot( x2 , y2 , color = '#930d08' , linestyle = 'solid')\n",
    "\n",
    "ax.set_xlabel('Years')\n",
    "ax.set_ylabel('Variable D')\n",
    "\n",
    "\n",
    "ax.set_xlim( min(x2) , max(x2) )\n",
    "\n",
    "ax.set_title( 'Sample data')\n",
    "\n",
    "plt.show()"
   ]
  },
  {
   "cell_type": "markdown",
   "metadata": {},
   "source": [
    "The code above also demonstrates a number of additional possibilities of matplotlib. The ```plt.style.use()``` method changes the style of the graph. In themselves, the matplotlib graphics have a fairly plain and simple appearance. The style of the graphs can be modified by applying stylesheets. In the code the stylesheet named 'seaborn-pastel' is invoked. The box below lists a number of other options. \n"
   ]
  },
  {
   "cell_type": "code",
   "execution_count": null,
   "metadata": {},
   "outputs": [],
   "source": [
    "plt.style.use('seaborn-whitegrid')\n",
    "plt.style.use('fivethirtyeight')\n",
    "plt.style.use('seaborn-pastel')\n",
    "plt.style.use('seaborn-whitegrid')\n",
    "plt.style.use('ggplot')\n",
    "plt.style.use('grayscale')\n",
    "\n",
    "## To see all the stylesheets that are \n",
    "## available, use the following:\n",
    "\n",
    "# print( plt.style.available )"
   ]
  },
  {
   "cell_type": "markdown",
   "metadata": {},
   "source": [
    "\n",
    "Like ```bar()```, the ```plot()``` method expects two parameters: the values for the X-axis, and the values for the Y-axis. It is also possible to specify the line style for the line chart. You can choose one of the options below:"
   ]
  },
  {
   "cell_type": "code",
   "execution_count": null,
   "metadata": {},
   "outputs": [],
   "source": [
    "linestyle='solid'\n",
    "linestyle='dashed'\n",
    "linestyle='dashdot'\n",
    "linestyle='dotted'"
   ]
  },
  {
   "cell_type": "markdown",
   "metadata": {},
   "source": [
    "Matplotlib normally infers the limits of the X-axis and the Y-axis from your data. In some cases, however, you may want to adjust the limits of the axes yourself. As is illustrated, you can do this via ```set_xlim()``` and ```set_ylim()```. These two methods take two parameters: the lowest value and the highest value. The two numbers that you mention determine the range of values that you shall see on the X-axis and the Y-axis.\n",
    "\n",
    "## Saving images\n",
    "\n",
    "Next to opening the graph in a viewer on your screen, using show(), it is also possible to instruct Python to create an image file on your computer, via the ```savefig()``` method. As the first parameter to this function, you must provide a filename. The filename must include an extension, such as ‘jpeg’, ‘tiff’, ‘png’ or ‘pdf’. The methods savefig() and show() are mutually exclusive. When you use one of these two methods, you cannot use the other method. \n",
    "\n",
    "## A scatter plot\n",
    "\n",
    "A scatter plot is a data visualisation that makes use of dots to represent the values of two numerical variables. To create a scatterplot, you need to use the method ```scatter()``` in the Axes Class. Like ```plot()``` and ```bar()```, the ```scatter()``` method minimally demands two parameters: the values to be shown on the X-axis and the values that need to be plotted on the Y-axis. The sizes of the dots can be specified in the ```s``` parameter. \n",
    "\n"
   ]
  },
  {
   "cell_type": "code",
   "execution_count": null,
   "metadata": {},
   "outputs": [],
   "source": [
    "import matplotlib.pyplot as plt\n",
    "\n",
    "plt.style.use('seaborn-whitegrid')\n",
    "\n",
    "\n",
    "fig = plt.figure( figsize = ( 6,6 ))\n",
    "ax = plt.axes()\n",
    "\n",
    "\n",
    "ax.scatter( x3 , y3 , alpha=0.8,  s=80)\n",
    "\n",
    "ax.set_xlabel('Variable C' , fontsize = 16 )\n",
    "ax.set_ylabel('Variable D' , fontsize = 16 )\n",
    "\n",
    "\n",
    "\n",
    "plt.show()\n",
    "\n"
   ]
  },
  {
   "cell_type": "markdown",
   "metadata": {},
   "source": [
    "The colours of the dots in the scatter plot can be changed via a parameter called ```c```. The value of this parameter must be a list. This list must have exactly the same number of items as the number of dots to be shown in the scatter plot. Basically, the list assigns a colour to each item in these lists. In the code below, the colours list is populated, based on the values in the 'class' column.\n",
    "\n",
    "When the dots are displayed in different colours, it can obviously be useful to add a legend to explain the meaning of these colours. The example below creates a list of all the colours, togeher with a dictionary which links colours to catgories.\n",
    "\n",
    "Lines 24 and 25 associates the colour codes with the scatter plot. Line 24 makes use of the scatter() plot which you have seen before, but, in this case, it is used with empty lists. This step is necessary to add labels to the colours that are used in the diagram. The legend is added, finally, using the legend() method, as illustated. This method can be used in combination with the ```loc()``` method, which specifies the location of the legend, and the ```frameon()``` method. When you use frameon = False, the background of the legend will become transparent."
   ]
  },
  {
   "cell_type": "code",
   "execution_count": null,
   "metadata": {},
   "outputs": [],
   "source": [
    "colours = []\n",
    "legendDict = dict()\n",
    "\n",
    "for index , column in df.iterrows():\n",
    "\n",
    "    if column[\"class\"] == 'Category1':\n",
    "        colours.append( '#a88732' )\n",
    "        legendDict[ colours[index] ] = column[\"class\"]\n",
    "    elif column[\"class\"] == 'Category2':\n",
    "        colours.append( '#265c28' )\n",
    "        legendDict[ colours[index] ] = column[\"class\"]\n",
    "    elif column[\"class\"] == 'Category2':\n",
    "        colours.append( '#a0061a' )\n",
    "        legendDict[ colours[index] ] = column[\"class\"]\n",
    "    else:\n",
    "        colours.append( '#431670' )\n",
    "        legendDict[ colours[index] ] = column[\"class\"]\n",
    "        \n",
    "\n",
    "        \n",
    "        \n",
    "        \n",
    "\n",
    "import matplotlib.pyplot as plt\n",
    "\n",
    "plt.style.use('seaborn-whitegrid')\n",
    "\n",
    "\n",
    "fig = plt.figure( figsize = ( 8,8 ))\n",
    "ax = plt.axes()\n",
    "\n",
    "\n",
    "ax.scatter( x3 , y3 , c = colours , alpha=0.8,  s=80)\n",
    "\n",
    "ax.set_xlabel('Variable C' , fontsize = 16 )\n",
    "ax.set_ylabel('Variable D' , fontsize = 16 )\n",
    "\n",
    "\n",
    "    \n",
    "\n",
    "plt.title('Matplotlib scatter plot')\n",
    "\n",
    "\n",
    "for item in legendDict:\n",
    "    plt.scatter( [], [], c = item , label = legendDict[item] )\n",
    "\n",
    "plt.legend(loc=2 , frameon=True ,  prop={'size': 14} )\n",
    "\n",
    "\n",
    "\n",
    "plt.show()"
   ]
  },
  {
   "cell_type": "markdown",
   "metadata": {},
   "source": [
    "< [Data analysis with Pandas](https://tdm.universiteitleiden.nl/Python/Pandas.html) | [Table of contents](https://tdm.universiteitleiden.nl/Python) >"
   ]
  }
 ],
 "metadata": {
  "kernelspec": {
   "display_name": "Python 3",
   "language": "python",
   "name": "python3"
  },
  "language_info": {
   "codemirror_mode": {
    "name": "ipython",
    "version": 3
   },
   "file_extension": ".py",
   "mimetype": "text/x-python",
   "name": "python",
   "nbconvert_exporter": "python",
   "pygments_lexer": "ipython3",
   "version": "3.7.2"
  }
 },
 "nbformat": 4,
 "nbformat_minor": 2
}
