{
 "cells": [
  {
   "cell_type": "markdown",
   "metadata": {},
   "source": [
    "# Regular expressions - Exercises"
   ]
  },
  {
   "attachments": {},
   "cell_type": "markdown",
   "metadata": {},
   "source": [
    "Download “P.B. Shelley's Complete Poems” from the following address:  \n",
    "https://raw.githubusercontent.com/peterverhaar/dtdp/master/Texts/shelley.txt.\n",
    "\n",
    "Regular expressions can be used to find verse lines with specific properties. Write a program in Python which can identify verse lines with the following features: \n",
    "\n",
    "Find all the lines from Shelley's Complete Poems lines containing the word \"fire\"."
   ]
  },
  {
   "cell_type": "code",
   "execution_count": null,
   "metadata": {},
   "outputs": [],
   "source": [
    "import re\n",
    "\n",
    "poems = open(\"Shelley.txt\" , encoding='utf-8')\n",
    "lines = []\n",
    "\n",
    "\n",
    "for line in poems:\n",
    "    lines.append(line)\n",
    "\n",
    "\n",
    "for line in lines:\n",
    "    if re.search( r\"\\bfire\\b\" , line , re.IGNORECASE ):\n",
    "        print(line)"
   ]
  },
  {
   "cell_type": "markdown",
   "metadata": {},
   "source": [
    "Using the same text, print all the lines containing either the word \"sun\" or to word \"moon\". Use a single regular expression to identify these lines."
   ]
  },
  {
   "cell_type": "code",
   "execution_count": null,
   "metadata": {},
   "outputs": [],
   "source": [
    "for line in lines:\n",
    "    if re.search( r'\\bsun\\b|\\bmoon\\b' , line ):\n",
    "        print( line )"
   ]
  },
  {
   "cell_type": "markdown",
   "metadata": {},
   "source": [
    "Find all the lines which contain either the singular or the plural form of \"star\"."
   ]
  },
  {
   "cell_type": "code",
   "execution_count": null,
   "metadata": {},
   "outputs": [],
   "source": [
    "for line in lines:\n",
    "    if re.search( r'\\bstars?\\b' , line ):\n",
    "        print( line )"
   ]
  },
  {
   "cell_type": "markdown",
   "metadata": {},
   "source": [
    "Find all the lines which contain either the singular or the plural form of \"leaf\"."
   ]
  },
  {
   "cell_type": "code",
   "execution_count": null,
   "metadata": {},
   "outputs": [],
   "source": [
    "for line in lines:\n",
    "    if re.search( r'\\blea(f|ves)\\b' , line ):\n",
    "        print( line )"
   ]
  },
  {
   "cell_type": "markdown",
   "metadata": {},
   "source": [
    "Find all the lines which contain a word ending in in \"ly\"."
   ]
  },
  {
   "cell_type": "code",
   "execution_count": null,
   "metadata": {},
   "outputs": [],
   "source": [
    "for line in lines:\n",
    "    if re.search( r'ly\\b' , line ):\n",
    "        print( line )"
   ]
  },
  {
   "cell_type": "markdown",
   "metadata": {},
   "source": [
    "Find all the lines which contain a question mark."
   ]
  },
  {
   "cell_type": "code",
   "execution_count": null,
   "metadata": {},
   "outputs": [],
   "source": [
    "for line in lines:\n",
    "    if re.search( r'\\?' , line ):\n",
    "        print( line )"
   ]
  },
  {
   "cell_type": "markdown",
   "metadata": {},
   "source": [
    "Find all the lines ending in the character sequence \"ain\"."
   ]
  },
  {
   "cell_type": "code",
   "execution_count": null,
   "metadata": {},
   "outputs": [],
   "source": [
    "for line in lines:\n",
    "    if re.search( r'ain$' , line ):\n",
    "        print( line )"
   ]
  },
  {
   "cell_type": "markdown",
   "metadata": {},
   "source": [
    "Find all the lines which contain at least two words that begin with \"br\""
   ]
  },
  {
   "cell_type": "code",
   "execution_count": null,
   "metadata": {},
   "outputs": [],
   "source": [
    "for line in lines:\n",
    "    if re.search( r'\\bbr.+\\bbr.*' , line ):\n",
    "        print( line )"
   ]
  },
  {
   "cell_type": "markdown",
   "metadata": {},
   "source": [
    "Download the following file: https://raw.githubusercontent.com/peterverhaar/dtdp/master/Texts/Ulysses.txt. It is the full text of James Joyce's novel Ulysses. Find all the text fragments containing a year (e.g. the sentence “What reflection concerning the irregular sequence of dates 1884, 1885, 1886, 1888, 1892, 1893, 1904 did Bloom make before their arrival at their destination?”)\n"
   ]
  },
  {
   "cell_type": "code",
   "execution_count": null,
   "metadata": {},
   "outputs": [],
   "source": [
    "import re\n",
    "\n",
    "novel = open(\"Ulysses.txt\" , encoding='utf-8')\n",
    "lines = []\n",
    "\n",
    "\n",
    "for line in novel:\n",
    "    lines.append(line)\n",
    "    \n",
    "for line in lines:\n",
    "    if re.search( r'\\d{4}' , line ):\n",
    "        print( line )"
   ]
  },
  {
   "cell_type": "markdown",
   "metadata": {},
   "source": [
    "Find fragments in which Joyce chose the dramatic form, or, more specifically, lines which begin with the name of a speaker in capitals, followed directly by a colon."
   ]
  },
  {
   "cell_type": "code",
   "execution_count": null,
   "metadata": {},
   "outputs": [],
   "source": [
    "for line in lines:\n",
    "    if re.search( r'[A-Z]+:' , line ):\n",
    "        print(line)"
   ]
  },
  {
   "cell_type": "markdown",
   "metadata": {},
   "source": [
    "Find lines that consist of less than 30 characters. N.B. Use a regular expression, instead of the finction len()"
   ]
  },
  {
   "cell_type": "code",
   "execution_count": null,
   "metadata": {},
   "outputs": [],
   "source": [
    "for line in lines:\n",
    "    if re.search( r'^.{1,29}$' , line ):\n",
    "        print(line.strip())"
   ]
  },
  {
   "cell_type": "markdown",
   "metadata": {},
   "source": [
    "Find fragments containing words that begin with \"O'\", followed by an apostrophe (e.g. O'Connell, O'Brian)"
   ]
  },
  {
   "cell_type": "code",
   "execution_count": null,
   "metadata": {},
   "outputs": [],
   "source": [
    "for line in lines:\n",
    "    if re.search( r'\\b[Oo]\\'[A-Z]' , line ):\n",
    "        print(line)"
   ]
  },
  {
   "cell_type": "markdown",
   "metadata": {},
   "source": [
    "The file “bibliography.txt”, which you can download from https://raw.githubusercontent.com/peterverhaar/dtdp/master/Texts/bibliography.txt, contains a list of articles, formatted according to the APA citation style. For each title, try to extract the year of publication, the title and the name of the journal. \n"
   ]
  },
  {
   "cell_type": "code",
   "execution_count": null,
   "metadata": {},
   "outputs": [],
   "source": [
    "import re\n",
    "\n",
    "file = open(  \"bibliography.txt\" )\n",
    "\n",
    "for pub in file:\n",
    "    match = re.search( r'\\((\\d+)\\)' , pub )\n",
    "    if match:\n",
    "        year = match.group(1)\n",
    "\n",
    "    match = re.search( r'\\\"(.+)\\\"' , pub )\n",
    "    if match:\n",
    "        title = match.group(1)\n",
    "\n",
    "    match = re.search( r'\\\".+\\\"\\s([A-Za-z\\s]*)\\d' , pub )\n",
    "    if match:\n",
    "        journal = match.group(1)\n",
    "\n",
    "    print( year + '\\n' +  title + '\\n' + journal + '\\n')"
   ]
  }
 ],
 "metadata": {
  "kernelspec": {
   "display_name": "Python 3",
   "language": "python",
   "name": "python3"
  },
  "language_info": {
   "codemirror_mode": {
    "name": "ipython",
    "version": 3
   },
   "file_extension": ".py",
   "mimetype": "text/x-python",
   "name": "python",
   "nbconvert_exporter": "python",
   "pygments_lexer": "ipython3",
   "version": "3.7.2"
  }
 },
 "nbformat": 4,
 "nbformat_minor": 1
}
